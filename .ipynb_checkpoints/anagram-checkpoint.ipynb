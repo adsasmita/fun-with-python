{
 "cells": [
  {
   "cell_type": "code",
   "execution_count": 100,
   "metadata": {},
   "outputs": [],
   "source": [
    "import re\n",
    "from collections import defaultdict"
   ]
  },
  {
   "cell_type": "code",
   "execution_count": 80,
   "metadata": {},
   "outputs": [
    {
     "name": "stdout",
     "output_type": "stream",
     "text": [
      "char: L, isupper: True\n",
      "char: O, isupper: True\n",
      "char: O, isupper: True\n",
      "char:  , isupper: False\n",
      "char: L, isupper: True\n",
      "char: L, isupper: True\n",
      "char: l, isupper: False\n",
      "char: l, isupper: False\n",
      "char: l, isupper: False\n",
      "char: l, isupper: False\n",
      "char:  , isupper: False\n",
      "char: 0, isupper: False\n",
      "char: 0, isupper: False\n",
      "char: 0, isupper: False\n",
      "char:  , isupper: False\n",
      "char: 1, isupper: False\n",
      "char: 2, isupper: False\n",
      "char:  , isupper: False\n",
      "char: 2, isupper: False\n",
      "char: 3, isupper: False\n",
      "char:  , isupper: False\n",
      "char: 4, isupper: False\n",
      "char:  , isupper: False\n",
      "char: L, isupper: True\n"
     ]
    }
   ],
   "source": [
    "s1 = 'LOO LLllll 000 12 23 4 L'\n",
    "for s in s1:\n",
    "    print(f\"char: {s}, isupper: {s.isupper()}\")"
   ]
  },
  {
   "cell_type": "code",
   "execution_count": 92,
   "metadata": {},
   "outputs": [],
   "source": [
    "def anagram(s1, s2):\n",
    "    pattern = r'[^\\w!>@?]'\n",
    "    sub = re.compile(pattern).sub\n",
    "    s1 = sub('', s1)\n",
    "    s2 = sub('', s2)\n",
    "\n",
    "    return sorted(s1) == sorted(s2)"
   ]
  },
  {
   "cell_type": "code",
   "execution_count": 108,
   "metadata": {},
   "outputs": [
    {
     "data": {
      "text/plain": [
       "dict_items([('l', 1), ('g', -1)])"
      ]
     },
     "execution_count": 108,
     "metadata": {},
     "output_type": "execute_result"
    }
   ],
   "source": [
    "count_d = defaultdict(int)\n",
    "count_d['l'] += 1\n",
    "count_d['g'] -= 1\n",
    "count_d.items()"
   ]
  },
  {
   "cell_type": "code",
   "execution_count": 109,
   "metadata": {},
   "outputs": [],
   "source": [
    "def anagram2(s1, s2):\n",
    "    pattern = r'[^\\w!>@?]'\n",
    "    sub = re.compile(pattern).sub\n",
    "    s1 = sub('', s1)\n",
    "    s2 = sub('', s2)\n",
    "    if len(s1) != len(s2):\n",
    "        return False\n",
    "    \n",
    "    count_d = defaultdict(int)\n",
    "    \n",
    "    for c in s1:\n",
    "        count_d[c] += 1\n",
    "    \n",
    "    for c in s2:\n",
    "        count_d[c] -= 1\n",
    "        \n",
    "    for v in count_d.values():\n",
    "        if v != 0:\n",
    "            return False\n",
    "    \n",
    "    print(count_d)\n",
    "    \n",
    "    return True"
   ]
  },
  {
   "cell_type": "code",
   "execution_count": 110,
   "metadata": {},
   "outputs": [
    {
     "name": "stdout",
     "output_type": "stream",
     "text": [
      "testing solution: <function anagram at 0x7f9fbde83840>\n",
      "ALL TEST CASES PASSED\n",
      "testing solution: <function anagram2 at 0x7f9fbde83048>\n",
      "defaultdict(<class 'int'>, {'g': 0, 'o': 0})\n",
      "defaultdict(<class 'int'>, {'a': 0, 'b': 0, 'c': 0})\n",
      "ALL TEST CASES PASSED\n"
     ]
    }
   ],
   "source": [
    "class AnagramTest(object):\n",
    "    \n",
    "    def test(self,sol):\n",
    "        print(f\"testing solution: {str(sol)}\")\n",
    "        assert sol('go go go','gggooo') == True\n",
    "        assert sol('abc','cba') == True\n",
    "        assert sol('hi man','hi     lol') == False\n",
    "        assert sol('aabbcc','aabbc') == False\n",
    "        assert sol('123','1 2') == False\n",
    "        print(\"ALL TEST CASES PASSED\")\n",
    "\n",
    "# Run Tests\n",
    "t = AnagramTest()\n",
    "t.test(anagram)\n",
    "t.test(anagram2)"
   ]
  },
  {
   "cell_type": "code",
   "execution_count": null,
   "metadata": {},
   "outputs": [],
   "source": []
  }
 ],
 "metadata": {
  "kernelspec": {
   "display_name": "Python 3",
   "language": "python",
   "name": "python3"
  },
  "language_info": {
   "codemirror_mode": {
    "name": "ipython",
    "version": 3
   },
   "file_extension": ".py",
   "mimetype": "text/x-python",
   "name": "python",
   "nbconvert_exporter": "python",
   "pygments_lexer": "ipython3",
   "version": "3.6.5"
  }
 },
 "nbformat": 4,
 "nbformat_minor": 2
}
