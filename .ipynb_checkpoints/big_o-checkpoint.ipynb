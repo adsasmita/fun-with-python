{
 "cells": [
  {
   "cell_type": "code",
   "execution_count": 1,
   "metadata": {},
   "outputs": [
    {
     "name": "stdout",
     "output_type": "stream",
     "text": [
      "1\n"
     ]
    }
   ],
   "source": [
    "# O(1) Constant\n",
    "def func_constant(values): \n",
    "    print(values[0])\n",
    "    \n",
    "func_constant([1,3,'a','b','c','def'])"
   ]
  },
  {
   "cell_type": "code",
   "execution_count": 2,
   "metadata": {},
   "outputs": [
    {
     "name": "stdout",
     "output_type": "stream",
     "text": [
      "6\n"
     ]
    }
   ],
   "source": [
    "# O(n) Linear\n",
    "def func_lin(lst):\n",
    "    c = int()\n",
    "    for val in lst:\n",
    "        c += 1\n",
    "    print(c)\n",
    "\n",
    "func_lin([1,3,'a','b','c','def'])"
   ]
  },
  {
   "cell_type": "code",
   "execution_count": 3,
   "metadata": {},
   "outputs": [
    {
     "name": "stdout",
     "output_type": "stream",
     "text": [
      "36\n"
     ]
    }
   ],
   "source": [
    "# O(n^2) Quadratic\n",
    "def func_quad(lst):\n",
    "    c = int()\n",
    "    for i in lst:\n",
    "        for j in lst:\n",
    "            c += 1\n",
    "    print(c)\n",
    "            \n",
    "func_quad([1,3,'a','b','c','def'])"
   ]
  },
  {
   "cell_type": "code",
   "execution_count": null,
   "metadata": {},
   "outputs": [],
   "source": []
  },
  {
   "cell_type": "code",
   "execution_count": 4,
   "metadata": {},
   "outputs": [],
   "source": [
    "import numpy as pd\n",
    "import pandas as pd"
   ]
  },
  {
   "cell_type": "code",
   "execution_count": 21,
   "metadata": {},
   "outputs": [],
   "source": [
    "# pandas datetime\n",
    "s = pd.Series(pd.date_range(start='2004-01-01 00:00:00', \n",
    "                             end='2005-12-31 23:59:59',\n",
    "                             freq='10000S'))\n",
    "sdict = s.to_dict()\n",
    "# swapping index and values\n",
    "ss = pd.Series(s.index.values, s)\n",
    "ssdict = ss.to_dict()"
   ]
  },
  {
   "cell_type": "code",
   "execution_count": 22,
   "metadata": {},
   "outputs": [],
   "source": []
  },
  {
   "cell_type": "code",
   "execution_count": 24,
   "metadata": {},
   "outputs": [],
   "source": []
  }
 ],
 "metadata": {
  "kernelspec": {
   "display_name": "Python 3",
   "language": "python",
   "name": "python3"
  },
  "language_info": {
   "codemirror_mode": {
    "name": "ipython",
    "version": 3
   },
   "file_extension": ".py",
   "mimetype": "text/x-python",
   "name": "python",
   "nbconvert_exporter": "python",
   "pygments_lexer": "ipython3",
   "version": "3.6.5"
  }
 },
 "nbformat": 4,
 "nbformat_minor": 2
}
