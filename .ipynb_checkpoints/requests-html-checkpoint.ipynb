{
 "cells": [
  {
   "cell_type": "code",
   "execution_count": 6,
   "metadata": {},
   "outputs": [
    {
     "data": {
      "text/plain": [
       "0"
      ]
     },
     "execution_count": 6,
     "metadata": {},
     "output_type": "execute_result"
    },
    {
     "name": "stdout",
     "output_type": "stream",
     "text": [
      "text length now: 6388\n",
      "text length now: 7604\n",
      "text length now: 11730\n",
      "text length now: 20940\n",
      "text length now: 29278\n",
      "text length now: 37384\n",
      "text length now: 48810\n",
      "text length now: 58901\n",
      "text length now: 82026\n",
      "text length now: 97398\n",
      "text length now: 109711\n",
      "text length now: 125191\n",
      "text length now: 144785\n",
      "text length now: 159285\n",
      "text length now: 173578\n",
      "text length now: 190200\n",
      "text length now: 211871\n",
      "text length now: 233536\n",
      "text length now: 260799\n",
      "text length now: 284485\n",
      "text length now: 295422\n",
      "text length now: 315652\n",
      "text length now: 332934\n",
      "text length now: 363340\n",
      "text length now: 378067\n",
      "text length now: 405978\n",
      "text length now: 423428\n",
      "text length now: 445632\n",
      "text length now: 456917\n",
      "text length now: 465886\n",
      "text length now: 469243\n",
      "text length now: 476865\n",
      "text length now: 484026\n",
      "text length now: 506032\n",
      "text length now: 527584\n",
      "text length now: 537469\n",
      "text length now: 546615\n",
      "text length now: 556539\n",
      "text length now: 575200\n",
      "text length now: 598128\n",
      "text length now: 619004\n",
      "text length now: 647764\n",
      "text length now: 670010\n",
      "text length now: 692966\n",
      "text length now: 714742\n",
      "text length now: 729423\n",
      "text length now: 758774\n",
      "text length now: 778298\n",
      "text length now: 797760\n",
      "text length now: 811845\n",
      "text length now: 832550\n",
      "text length now: 843510\n",
      "text length now: 864498\n",
      "text length now: 874051\n",
      "text length now: 893714\n",
      "text length now: 909697\n",
      "text length now: 924665\n",
      "text length now: 947136\n",
      "text length now: 978765\n",
      "text length now: 1003144\n",
      "text length now: 1025295\n",
      "text length now: 1036576\n",
      "text length now: 1051584\n",
      "text length now: 1055247\n",
      "text length now: 1062891\n",
      "text length now: 1068370\n",
      "text length now: 1076885\n",
      "text length now: 1085073\n",
      "text length now: 1090067\n",
      "text length now: 1097103\n",
      "text length now: 1102301\n",
      "text length now: 1108709\n",
      "text length now: 1116938\n",
      "text length now: 1134947\n",
      "text length now: 1144567\n",
      "text length now: 1154341\n",
      "text length now: 1164802\n",
      "text length now: 1175818\n",
      "text length now: 1186581\n",
      "text length now: 1198040\n",
      "text length now: 1217465\n",
      "text length now: 1221478\n",
      "text length now: 1225500\n",
      "text length now: 1236033\n",
      "text length now: 1244690\n",
      "text length now: 1249353\n",
      "text length now: 1262976\n",
      "text length now: 1291167\n",
      "text length now: 1303265\n",
      "text length now: 1315081\n",
      "text length now: 1321406\n",
      "text length now: 1333373\n",
      "text length now: 1338743\n",
      "text length now: 1347477\n",
      "text length now: 1356201\n",
      "text length now: 1371669\n",
      "text length now: 1379660\n",
      "text length now: 1388980\n",
      "text length now: 1395502\n"
     ]
    },
    {
     "data": {
      "text/plain": [
       "1395502"
      ]
     },
     "execution_count": 6,
     "metadata": {},
     "output_type": "execute_result"
    }
   ],
   "source": [
    "import requests_html\n",
    "from requests_html import HTMLSession\n",
    "\n",
    "### INPUTS HERE\n",
    "url1 = \"https://m.kaskus.co.id/thread/585a22ce56e6af35078b456d/new-groovy-spa--lounge---new-entertainment--kelapa-gading\"\n",
    "url2 = \"https://m.kaskus.co.id/thread/5b032ddcd675d414558b458b/akhirnya-binatang-ini-menyelamatkan-manusia-dari-hiv-aids\"\n",
    "use = url1\n",
    "name_to_save = 'kaskus_lol1'\n",
    "### END INPUTS\n",
    "\n",
    "links = [f\"{use}/{a}\" for a in range(1,100)]\n",
    "\n",
    "txt_to_save = \"\"\n",
    "len(txt_to_save)\n",
    "\n",
    "for link in links:\n",
    "    session = HTMLSession()\n",
    "    r = session.get(link)\n",
    "    posts = r.html.find('.entry-content', clean=True)\n",
    "    \n",
    "    for post in posts:\n",
    "        txt_to_save += post.text\n",
    "        \n",
    "    print(f\"text length now: {len(txt_to_save)}\")\n",
    "        \n",
    "text_file = open(f\"{name_to_save}.txt\", \"w\")\n",
    "text_file.write(txt_to_save)\n",
    "text_file.close()"
   ]
  },
  {
   "cell_type": "code",
   "execution_count": 5,
   "metadata": {},
   "outputs": [
    {
     "data": {
      "text/plain": [
       "1395502"
      ]
     },
     "execution_count": 5,
     "metadata": {},
     "output_type": "execute_result"
    }
   ],
   "source": [
    "text_file = open(\"lol1.txt\", \"w\")\n",
    "text_file.write(txt_to_save)\n",
    "text_file.close()"
   ]
  },
  {
   "cell_type": "code",
   "execution_count": null,
   "metadata": {},
   "outputs": [],
   "source": []
  },
  {
   "cell_type": "code",
   "execution_count": 1,
   "metadata": {},
   "outputs": [],
   "source": [
    "import requests_html\n",
    "from requests_html import HTMLSession\n",
    "\n",
    "kaskus1 = \"https://m.kaskus.co.id/thread/585a22ce56e6af35078b456d/new-groovy-spa--lounge---new-entertainment--kelapa-gading\"\n",
    "\n",
    "#############################\n",
    "\n",
    "session = HTMLSession()\n",
    "r = session.get(kaskus1)\n"
   ]
  },
  {
   "cell_type": "code",
   "execution_count": 2,
   "metadata": {},
   "outputs": [],
   "source": [
    "links = [f\"{kaskus1}/{a}\" for a in range(1,100)]"
   ]
  },
  {
   "cell_type": "code",
   "execution_count": 3,
   "metadata": {},
   "outputs": [
    {
     "data": {
      "text/plain": [
       "0"
      ]
     },
     "execution_count": 3,
     "metadata": {},
     "output_type": "execute_result"
    },
    {
     "name": "stdout",
     "output_type": "stream",
     "text": [
      "text length now: 6388\n",
      "text length now: 7604\n",
      "text length now: 11730\n",
      "text length now: 20940\n",
      "text length now: 29278\n",
      "text length now: 37384\n",
      "text length now: 48810\n",
      "text length now: 58901\n",
      "text length now: 82026\n",
      "text length now: 97398\n",
      "text length now: 109711\n",
      "text length now: 125191\n",
      "text length now: 144785\n",
      "text length now: 159285\n",
      "text length now: 173578\n",
      "text length now: 190200\n",
      "text length now: 211871\n",
      "text length now: 233536\n",
      "text length now: 260799\n",
      "text length now: 284485\n",
      "text length now: 295422\n",
      "text length now: 315652\n",
      "text length now: 332934\n",
      "text length now: 363340\n",
      "text length now: 378067\n",
      "text length now: 405978\n",
      "text length now: 423428\n",
      "text length now: 445632\n",
      "text length now: 456917\n",
      "text length now: 465886\n",
      "text length now: 469243\n",
      "text length now: 476865\n",
      "text length now: 484026\n",
      "text length now: 506032\n",
      "text length now: 527584\n",
      "text length now: 537469\n",
      "text length now: 546615\n",
      "text length now: 556539\n",
      "text length now: 575200\n",
      "text length now: 598128\n",
      "text length now: 619004\n",
      "text length now: 647764\n",
      "text length now: 670010\n",
      "text length now: 692966\n",
      "text length now: 714742\n",
      "text length now: 729423\n",
      "text length now: 758774\n",
      "text length now: 778298\n",
      "text length now: 797760\n",
      "text length now: 811845\n",
      "text length now: 832550\n",
      "text length now: 843510\n",
      "text length now: 864498\n",
      "text length now: 874051\n",
      "text length now: 893714\n",
      "text length now: 909697\n",
      "text length now: 924665\n",
      "text length now: 947136\n",
      "text length now: 978765\n",
      "text length now: 1003144\n",
      "text length now: 1025295\n",
      "text length now: 1036576\n",
      "text length now: 1051584\n",
      "text length now: 1055247\n",
      "text length now: 1062891\n",
      "text length now: 1068370\n",
      "text length now: 1076885\n",
      "text length now: 1085073\n",
      "text length now: 1090067\n",
      "text length now: 1097103\n",
      "text length now: 1102301\n",
      "text length now: 1108709\n",
      "text length now: 1116938\n",
      "text length now: 1134947\n",
      "text length now: 1144567\n",
      "text length now: 1154341\n",
      "text length now: 1164802\n",
      "text length now: 1175818\n",
      "text length now: 1186581\n",
      "text length now: 1198040\n",
      "text length now: 1217465\n",
      "text length now: 1221478\n",
      "text length now: 1225500\n",
      "text length now: 1236033\n",
      "text length now: 1244690\n",
      "text length now: 1249353\n",
      "text length now: 1262976\n",
      "text length now: 1291167\n",
      "text length now: 1303265\n",
      "text length now: 1315081\n",
      "text length now: 1321406\n",
      "text length now: 1333373\n",
      "text length now: 1338743\n",
      "text length now: 1347477\n",
      "text length now: 1356201\n",
      "text length now: 1371669\n",
      "text length now: 1379660\n",
      "text length now: 1388980\n",
      "text length now: 1395502\n",
      "\n",
      "1395502\n"
     ]
    }
   ],
   "source": [
    "txt_to_save = \"\"\n",
    "len(txt_to_save)\n",
    "\n",
    "for link in links:\n",
    "    session = HTMLSession()\n",
    "    r = session.get(link)\n",
    "    posts = r.html.find('.entry-content', clean=True)\n",
    "    \n",
    "    for post in posts:\n",
    "        txt_to_save += post.text\n",
    "        \n",
    "    print(f\"text length now: {len(txt_to_save)}\")\n",
    "        \n",
    "print()\n",
    "print(len(txt_to_save))"
   ]
  },
  {
   "cell_type": "code",
   "execution_count": null,
   "metadata": {},
   "outputs": [],
   "source": []
  },
  {
   "cell_type": "code",
   "execution_count": null,
   "metadata": {},
   "outputs": [],
   "source": [
    "posts = r.html.find('.entry-content', clean=True)\n",
    "len(posts)"
   ]
  },
  {
   "cell_type": "code",
   "execution_count": null,
   "metadata": {},
   "outputs": [],
   "source": [
    "res = \"\"\n",
    "len(res)\n",
    "for post in posts:\n",
    "    res += post.text\n",
    "    \n",
    "len(res)"
   ]
  },
  {
   "cell_type": "code",
   "execution_count": null,
   "metadata": {},
   "outputs": [],
   "source": [
    "print(res)"
   ]
  },
  {
   "cell_type": "code",
   "execution_count": null,
   "metadata": {},
   "outputs": [],
   "source": [
    "for i, asd in enumerate(asdf):\n",
    "    print(i, asd.text)"
   ]
  },
  {
   "cell_type": "code",
   "execution_count": null,
   "metadata": {},
   "outputs": [],
   "source": []
  },
  {
   "cell_type": "code",
   "execution_count": null,
   "metadata": {},
   "outputs": [],
   "source": []
  },
  {
   "cell_type": "code",
   "execution_count": null,
   "metadata": {},
   "outputs": [],
   "source": []
  },
  {
   "cell_type": "code",
   "execution_count": null,
   "metadata": {},
   "outputs": [],
   "source": [
    "for a, v in asdf.__dict__.items():\n",
    "    print(a, v)"
   ]
  },
  {
   "cell_type": "code",
   "execution_count": null,
   "metadata": {},
   "outputs": [],
   "source": [
    "[a for a in dir(asdf) if not a.startswith('__')]"
   ]
  },
  {
   "cell_type": "code",
   "execution_count": null,
   "metadata": {},
   "outputs": [],
   "source": [
    "asdf.url"
   ]
  },
  {
   "cell_type": "code",
   "execution_count": null,
   "metadata": {},
   "outputs": [],
   "source": []
  },
  {
   "cell_type": "code",
   "execution_count": null,
   "metadata": {},
   "outputs": [],
   "source": [
    "text = r.html.find('#post5a8d5fe2dad77004088b4569 > div.post > div.entry-content')\n",
    "for i, t in enumerate(text):\n",
    "    print(str(i) + \" ##########################\")\n",
    "    print()\n",
    "    print(t.text)\n",
    "    #print()"
   ]
  },
  {
   "cell_type": "code",
   "execution_count": null,
   "metadata": {},
   "outputs": [],
   "source": []
  }
 ],
 "metadata": {
  "kernelspec": {
   "display_name": "Python 3",
   "language": "python",
   "name": "python3"
  },
  "language_info": {
   "codemirror_mode": {
    "name": "ipython",
    "version": 3
   },
   "file_extension": ".py",
   "mimetype": "text/x-python",
   "name": "python",
   "nbconvert_exporter": "python",
   "pygments_lexer": "ipython3",
   "version": "3.6.5"
  }
 },
 "nbformat": 4,
 "nbformat_minor": 2
}
