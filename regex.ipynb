{
 "cells": [
  {
   "cell_type": "code",
   "execution_count": 1,
   "metadata": {},
   "outputs": [],
   "source": [
    "import re"
   ]
  },
  {
   "cell_type": "code",
   "execution_count": 2,
   "metadata": {},
   "outputs": [],
   "source": [
    "patterns = ['term1','term2']\n",
    "\n",
    "text = 'This is a string with term1, but it does not have the other term.'"
   ]
  },
  {
   "cell_type": "code",
   "execution_count": 4,
   "metadata": {},
   "outputs": [
    {
     "name": "stdout",
     "output_type": "stream",
     "text": [
      "pattern: term1, result: found\n",
      "pattern: term2, result: not found\n"
     ]
    }
   ],
   "source": [
    "for pattern in patterns:\n",
    "    if re.search(pattern, text): print(f'pattern: {pattern}, result: found')\n",
    "    else: print(f'pattern: {pattern}, result: not found')"
   ]
  },
  {
   "cell_type": "code",
   "execution_count": 24,
   "metadata": {},
   "outputs": [
    {
     "data": {
      "text/plain": [
       "<_sre.SRE_Match object; span=(22, 27), match='term1'>"
      ]
     },
     "execution_count": 24,
     "metadata": {},
     "output_type": "execute_result"
    },
    {
     "data": {
      "text/plain": [
       "['This is a string with ', ', ', ' but it does not have the other term.']"
      ]
     },
     "execution_count": 24,
     "metadata": {},
     "output_type": "execute_result"
    },
    {
     "data": {
      "text/plain": [
       "['term1', 'term1']"
      ]
     },
     "execution_count": 24,
     "metadata": {},
     "output_type": "execute_result"
    }
   ],
   "source": [
    "pattern = 'term1'\n",
    "\n",
    "string = 'This is a string with term1, term1 but it does not have the other term.'\n",
    "\n",
    "\n",
    "re.search(pattern, string)\n",
    "re.split(pattern, string)\n",
    "re.findall(pattern, string)"
   ]
  },
  {
   "cell_type": "code",
   "execution_count": 31,
   "metadata": {},
   "outputs": [],
   "source": [
    "def multi_re_find(patterns, string):\n",
    "    for pattern in patterns:\n",
    "        print(f\"pattern: {pattern}\")\n",
    "        print(f\"result: {re.findall(pattern, string)}\")\n",
    "        print()"
   ]
  },
  {
   "cell_type": "code",
   "execution_count": 37,
   "metadata": {},
   "outputs": [
    {
     "name": "stdout",
     "output_type": "stream",
     "text": [
      "pattern: sd*\n",
      "result: ['sd', 'sd', 's', 's', 'sddd', 'sddd', 'sddd', 'sd', 's', 's', 's', 's', 's', 's', 'sdddd', 'sdd']\n",
      "\n",
      "pattern: sd+\n",
      "result: ['sd', 'sd', 'sddd', 'sddd', 'sddd', 'sd', 'sdddd', 'sdd']\n",
      "\n",
      "pattern: sd?\n",
      "result: ['sd', 'sd', 's', 's', 'sd', 'sd', 'sd', 'sd', 's', 's', 's', 's', 's', 's', 'sd', 'sd']\n",
      "\n",
      "pattern: sd{3}\n",
      "result: ['sddd', 'sddd', 'sddd', 'sddd']\n",
      "\n",
      "pattern: sd{2,3}\n",
      "result: ['sddd', 'sddd', 'sddd', 'sddd', 'sdd']\n",
      "\n",
      "pattern: [sd]\n",
      "result: ['s', 'd', 's', 'd', 's', 's', 's', 'd', 'd', 'd', 's', 'd', 'd', 'd', 's', 'd', 'd', 'd', 'd', 's', 'd', 's', 'd', 's', 's', 's', 's', 's', 's', 'd', 'd', 'd', 'd', 's', 'd', 'd']\n",
      "\n",
      "pattern: s[sd]+\n",
      "result: ['sdsd', 'sssddd', 'sdddsddd', 'sds', 'sssss', 'sdddd', 'sdd']\n",
      "\n"
     ]
    }
   ],
   "source": [
    "test_phrase = 'sdsd..sssddd...sdddsddd...dsds...dsssss...sdddd..sdd'\n",
    "\n",
    "test_patterns = [ 'sd*',     # s followed by zero or more d's\n",
    "                'sd+',          # s followed by one or more d's\n",
    "                'sd?',          # s followed by zero or one d's\n",
    "                'sd{3}',        # s followed by three d's\n",
    "                'sd{2,3}',      # s followed by two to three d's\n",
    "                '[sd]',\n",
    "                's[sd]+']\n",
    "\n",
    "multi_re_find(test_patterns,test_phrase)"
   ]
  },
  {
   "cell_type": "code",
   "execution_count": 38,
   "metadata": {},
   "outputs": [],
   "source": [
    "test_phrase = 'This is a string! But it has punctutation. How can we remove it?'"
   ]
  },
  {
   "cell_type": "code",
   "execution_count": 92,
   "metadata": {},
   "outputs": [],
   "source": [
    "pattern = r'[^0-9! ?a-zA-Z_]'\n",
    "pattern2 = r'[^\\w! ?]'\n",
    "sub = re.compile(pattern).sub\n",
    "sub2 = re.compile(pattern2).sub"
   ]
  },
  {
   "cell_type": "code",
   "execution_count": 93,
   "metadata": {},
   "outputs": [
    {
     "data": {
      "text/plain": [
       "'This is a string! But it has punctutation How can we remove it?'"
      ]
     },
     "execution_count": 93,
     "metadata": {},
     "output_type": "execute_result"
    },
    {
     "data": {
      "text/plain": [
       "'This is a string! But it has punctutation How can we remove it?'"
      ]
     },
     "execution_count": 93,
     "metadata": {},
     "output_type": "execute_result"
    }
   ],
   "source": [
    "sub('', test_phrase)\n",
    "sub2('', test_phrase)"
   ]
  },
  {
   "cell_type": "code",
   "execution_count": null,
   "metadata": {},
   "outputs": [],
   "source": []
  },
  {
   "cell_type": "code",
   "execution_count": null,
   "metadata": {},
   "outputs": [],
   "source": []
  }
 ],
 "metadata": {
  "kernelspec": {
   "display_name": "Python 3",
   "language": "python",
   "name": "python3"
  },
  "language_info": {
   "codemirror_mode": {
    "name": "ipython",
    "version": 3
   },
   "file_extension": ".py",
   "mimetype": "text/x-python",
   "name": "python",
   "nbconvert_exporter": "python",
   "pygments_lexer": "ipython3",
   "version": "3.6.5"
  }
 },
 "nbformat": 4,
 "nbformat_minor": 2
}
