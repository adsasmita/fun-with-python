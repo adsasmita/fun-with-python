{
 "cells": [
  {
   "cell_type": "markdown",
   "metadata": {},
   "source": [
    "#### find number of unique pair sum\n",
    "Input [1,3,2,2], 4 \n",
    "\n",
    "output -> (1,3), (2,2) -> 2\n"
   ]
  },
  {
   "cell_type": "code",
   "execution_count": 1,
   "metadata": {},
   "outputs": [],
   "source": [
    "from collections import defaultdict, Counter\n",
    "def pair_sum(arr, k):\n",
    "    # for num in arr, if num - k in counter_dict\n",
    "    count = 0\n",
    "    num_list = set()\n",
    "    \n",
    "    for num in arr:\n",
    "        if k - num in num_list:\n",
    "            count += 1\n",
    "        else:\n",
    "            num_list.add(num)\n",
    "            \n",
    "    return count"
   ]
  },
  {
   "cell_type": "code",
   "execution_count": 2,
   "metadata": {},
   "outputs": [],
   "source": [
    "# [1,3,2,2], 4 -> (1,3), (2,2)\n",
    "def pair_sum2(arr, k):\n",
    "    counter = 0\n",
    "    lookup = set()\n",
    "    for num in arr:\n",
    "        if k - num in lookup: counter += 1\n",
    "        else: lookup.add(num)\n",
    "    print(f\"lookup: {lookup}\")\n",
    "    return counter\n",
    "    print(f\"lookup: {lookup}\")\n",
    "    pass\n"
   ]
  },
  {
   "cell_type": "code",
   "execution_count": 3,
   "metadata": {},
   "outputs": [
    {
     "data": {
      "text/plain": [
       "2"
      ]
     },
     "execution_count": 3,
     "metadata": {},
     "output_type": "execute_result"
    },
    {
     "name": "stdout",
     "output_type": "stream",
     "text": [
      "lookup: {1, 2}\n"
     ]
    },
    {
     "data": {
      "text/plain": [
       "2"
      ]
     },
     "execution_count": 3,
     "metadata": {},
     "output_type": "execute_result"
    }
   ],
   "source": [
    "pair_sum([1,3,2,2], 4)\n",
    "pair_sum2([1,3,2,2], 4)"
   ]
  },
  {
   "cell_type": "markdown",
   "metadata": {},
   "source": [
    "#### Find Missing Element in Arrays\n",
    "Input:\n",
    "finder([1,2,3,4,5,6,7],[3,7,2,1,4,6])\n",
    "\n",
    "Output:\n",
    "5 is the missing number"
   ]
  },
  {
   "cell_type": "code",
   "execution_count": 4,
   "metadata": {},
   "outputs": [],
   "source": [
    "from collections import Counter"
   ]
  },
  {
   "cell_type": "code",
   "execution_count": 5,
   "metadata": {},
   "outputs": [],
   "source": [
    "def finder(arr1, arr2):\n",
    "    \"find missing element in the second array\"\n",
    "    \n",
    "    return [i for i in arr1 if i not in arr2]"
   ]
  },
  {
   "cell_type": "code",
   "execution_count": 6,
   "metadata": {},
   "outputs": [
    {
     "data": {
      "text/plain": [
       "[5, 9, 0]"
      ]
     },
     "execution_count": 6,
     "metadata": {},
     "output_type": "execute_result"
    },
    {
     "data": {
      "text/plain": [
       "[0, 5, 9]"
      ]
     },
     "execution_count": 6,
     "metadata": {},
     "output_type": "execute_result"
    }
   ],
   "source": [
    "arr1 = [1,2,3,4,5,6,7,9,0]\n",
    "arr2 = [3,7,2,1,4,6]\n",
    "\n",
    "result = finder(arr1, arr2)\n",
    "\n",
    "result\n",
    "sorted(result)"
   ]
  },
  {
   "cell_type": "code",
   "execution_count": null,
   "metadata": {},
   "outputs": [],
   "source": []
  },
  {
   "cell_type": "markdown",
   "metadata": {},
   "source": [
    "#### find largest continuous sum\n",
    "\n",
    "large_cont_sum([1,2,-1,3,4,10,10,-10,-1])\n",
    "output: 29\n",
    "\n",
    "assert_equal(sol([1,2,-1,3,4,-1]),9)\n",
    "\n",
    "assert_equal(sol([1,2,-1,3,4,10,10,-10,-1]),29)\n",
    "\n",
    "assert_equal(sol([-1,1]),1)"
   ]
  },
  {
   "cell_type": "code",
   "execution_count": 7,
   "metadata": {},
   "outputs": [],
   "source": [
    "arr = [1,2,-1,3,4,10,10,-10,-1]\n",
    "# arr = [1,2,-1,3,4,-1]"
   ]
  },
  {
   "cell_type": "code",
   "execution_count": 8,
   "metadata": {},
   "outputs": [],
   "source": [
    "def large_cont_sum(arr):\n",
    "    \"find largest continuous sum of values in an array\"\n",
    "    # initialization\n",
    "    global_sum = pair_sum = arr[0]\n",
    "    \n",
    "    for i, num in enumerate(arr[1:]):\n",
    "        pair_sum = max(pair_sum+num, num)\n",
    "        global_sum = max(global_sum, pair_sum)\n",
    "        \n",
    "        print(f\"i: {i+1}, num: {arr}, pair_sum: {pair_sum}, global_sum: {global_sum}\")"
   ]
  },
  {
   "cell_type": "code",
   "execution_count": 9,
   "metadata": {},
   "outputs": [
    {
     "name": "stdout",
     "output_type": "stream",
     "text": [
      "i: 1, num: [1, 2, -1, 3, 4, 10, 10, -10, -1], pair_sum: 3, global_sum: 3\n",
      "i: 2, num: [1, 2, -1, 3, 4, 10, 10, -10, -1], pair_sum: 2, global_sum: 3\n",
      "i: 3, num: [1, 2, -1, 3, 4, 10, 10, -10, -1], pair_sum: 5, global_sum: 5\n",
      "i: 4, num: [1, 2, -1, 3, 4, 10, 10, -10, -1], pair_sum: 9, global_sum: 9\n",
      "i: 5, num: [1, 2, -1, 3, 4, 10, 10, -10, -1], pair_sum: 19, global_sum: 19\n",
      "i: 6, num: [1, 2, -1, 3, 4, 10, 10, -10, -1], pair_sum: 29, global_sum: 29\n",
      "i: 7, num: [1, 2, -1, 3, 4, 10, 10, -10, -1], pair_sum: 19, global_sum: 29\n",
      "i: 8, num: [1, 2, -1, 3, 4, 10, 10, -10, -1], pair_sum: 18, global_sum: 29\n"
     ]
    }
   ],
   "source": [
    "large_cont_sum(arr)"
   ]
  },
  {
   "cell_type": "code",
   "execution_count": null,
   "metadata": {},
   "outputs": [],
   "source": []
  },
  {
   "cell_type": "markdown",
   "metadata": {},
   "source": [
    "#### Sentence Reversal\n",
    "\n",
    "Given:\n",
    "    \n",
    "    'This is the best'\n",
    "\n",
    "Return:\n",
    "\n",
    "    'best the is This'\n",
    "\n",
    "As part of this exercise you should remove all leading and trailing whitespace. So that inputs such as:\n",
    "\n",
    "    '  space here'  and 'space here      '\n",
    "\n",
    "both become:\n",
    "\n",
    "    'here space'"
   ]
  },
  {
   "cell_type": "code",
   "execution_count": 10,
   "metadata": {},
   "outputs": [],
   "source": [
    "def rev_word(string):\n",
    "    \"reverse sentece words from the end to the beginning\"\n",
    "    return \" \".join(string.split()[::-1])"
   ]
  },
  {
   "cell_type": "code",
   "execution_count": 11,
   "metadata": {},
   "outputs": [
    {
     "data": {
      "text/plain": [
       "'1'"
      ]
     },
     "execution_count": 11,
     "metadata": {},
     "output_type": "execute_result"
    },
    {
     "data": {
      "text/plain": [
       "'after space'"
      ]
     },
     "execution_count": 11,
     "metadata": {},
     "output_type": "execute_result"
    }
   ],
   "source": [
    "rev_word('1')\n",
    "rev_word('space after     ')"
   ]
  },
  {
   "cell_type": "code",
   "execution_count": null,
   "metadata": {},
   "outputs": [],
   "source": []
  },
  {
   "cell_type": "code",
   "execution_count": null,
   "metadata": {},
   "outputs": [],
   "source": []
  },
  {
   "cell_type": "markdown",
   "metadata": {},
   "source": [
    "#### String Compression\n",
    "\n",
    "Given a string in the form 'AAAABBBBCCCCCDDEEEE' compress it to become 'A4B4C5D2E4'. For this problem, you can falsely \"compress\" strings of single or double letters. For instance, it is okay for 'AAB' to return 'A2B1' even though this technically takes more space.\n",
    "\n",
    "The function should also be case sensitive, so that a string 'AAAaaa' returns 'A3a3'."
   ]
  },
  {
   "cell_type": "code",
   "execution_count": 12,
   "metadata": {},
   "outputs": [],
   "source": [
    "import re\n",
    "from collections import Counter, defaultdict"
   ]
  },
  {
   "cell_type": "code",
   "execution_count": 13,
   "metadata": {},
   "outputs": [],
   "source": [
    "def string_compressor(string):\n",
    "    c = Counter(string)\n",
    "    \n",
    "    return ''.join([f'{k}{v}' for k, v in c.items()])"
   ]
  },
  {
   "cell_type": "code",
   "execution_count": 14,
   "metadata": {},
   "outputs": [
    {
     "data": {
      "text/plain": [
       "'A3B1C2D5'"
      ]
     },
     "execution_count": 14,
     "metadata": {},
     "output_type": "execute_result"
    }
   ],
   "source": [
    "string = 'AAABCCDDDDD'\n",
    "string_compressor(string)"
   ]
  },
  {
   "cell_type": "code",
   "execution_count": null,
   "metadata": {},
   "outputs": [],
   "source": []
  },
  {
   "cell_type": "code",
   "execution_count": null,
   "metadata": {},
   "outputs": [],
   "source": []
  },
  {
   "cell_type": "markdown",
   "metadata": {},
   "source": [
    "#### Unique Character in String\n",
    "\n",
    "assert_equal(sol(''), True)\n",
    "assert_equal(sol('goo'), False)\n",
    "assert_equal(sol('abcdefg'), True)\n",
    "print ('ALL TEST CASES PASSED')"
   ]
  },
  {
   "cell_type": "code",
   "execution_count": 15,
   "metadata": {},
   "outputs": [],
   "source": [
    "from collections import Counter, defaultdict"
   ]
  },
  {
   "cell_type": "code",
   "execution_count": 21,
   "metadata": {},
   "outputs": [
    {
     "name": "stdout",
     "output_type": "stream",
     "text": [
      "False\n",
      "False\n"
     ]
    },
    {
     "data": {
      "text/plain": [
       "Counter({'g': 2, 'o': 2, 'l': 1, 'e': 1})"
      ]
     },
     "execution_count": 21,
     "metadata": {},
     "output_type": "execute_result"
    }
   ],
   "source": [
    "string = 'google'\n",
    "string2 = 'abcdefg'\n",
    "\n",
    "c = Counter(string)\n",
    "for v in c.values():\n",
    "    if v > 1: print('False')\n",
    "c"
   ]
  },
  {
   "cell_type": "code",
   "execution_count": 22,
   "metadata": {},
   "outputs": [],
   "source": [
    "def uni_char(string):\n",
    "    c = Counter(string)\n",
    "    \n",
    "    for v in c.values():\n",
    "        if v > 1: return False\n",
    "        \n",
    "    return True"
   ]
  },
  {
   "cell_type": "code",
   "execution_count": 44,
   "metadata": {},
   "outputs": [],
   "source": [
    "def uni_char2(string):\n",
    "    c = Counter(string)\n",
    "\n",
    "    return not bool(sum([i for i in c.values() if i > 1]))"
   ]
  },
  {
   "cell_type": "code",
   "execution_count": 58,
   "metadata": {},
   "outputs": [],
   "source": [
    "def uni_char3(string):\n",
    "    \n",
    "    return len(set(string)) == len(string)"
   ]
  },
  {
   "cell_type": "code",
   "execution_count": 59,
   "metadata": {},
   "outputs": [
    {
     "data": {
      "text/plain": [
       "True"
      ]
     },
     "execution_count": 59,
     "metadata": {},
     "output_type": "execute_result"
    },
    {
     "data": {
      "text/plain": [
       "True"
      ]
     },
     "execution_count": 59,
     "metadata": {},
     "output_type": "execute_result"
    }
   ],
   "source": [
    "uni_char(string2)\n",
    "uni_char('')"
   ]
  },
  {
   "cell_type": "code",
   "execution_count": 60,
   "metadata": {},
   "outputs": [
    {
     "data": {
      "text/plain": [
       "False"
      ]
     },
     "execution_count": 60,
     "metadata": {},
     "output_type": "execute_result"
    },
    {
     "data": {
      "text/plain": [
       "True"
      ]
     },
     "execution_count": 60,
     "metadata": {},
     "output_type": "execute_result"
    },
    {
     "data": {
      "text/plain": [
       "True"
      ]
     },
     "execution_count": 60,
     "metadata": {},
     "output_type": "execute_result"
    }
   ],
   "source": [
    "uni_char2(string)\n",
    "uni_char2(string2)\n",
    "uni_char2('')"
   ]
  },
  {
   "cell_type": "code",
   "execution_count": 61,
   "metadata": {},
   "outputs": [
    {
     "data": {
      "text/plain": [
       "True"
      ]
     },
     "execution_count": 61,
     "metadata": {},
     "output_type": "execute_result"
    }
   ],
   "source": [
    "uni_char3('')"
   ]
  },
  {
   "cell_type": "code",
   "execution_count": null,
   "metadata": {},
   "outputs": [],
   "source": []
  },
  {
   "cell_type": "code",
   "execution_count": null,
   "metadata": {},
   "outputs": [],
   "source": []
  },
  {
   "cell_type": "code",
   "execution_count": null,
   "metadata": {},
   "outputs": [],
   "source": []
  },
  {
   "cell_type": "code",
   "execution_count": null,
   "metadata": {},
   "outputs": [],
   "source": []
  },
  {
   "cell_type": "code",
   "execution_count": null,
   "metadata": {},
   "outputs": [],
   "source": []
  },
  {
   "cell_type": "code",
   "execution_count": null,
   "metadata": {},
   "outputs": [],
   "source": []
  },
  {
   "cell_type": "code",
   "execution_count": null,
   "metadata": {},
   "outputs": [],
   "source": []
  },
  {
   "cell_type": "code",
   "execution_count": null,
   "metadata": {},
   "outputs": [],
   "source": []
  },
  {
   "cell_type": "code",
   "execution_count": null,
   "metadata": {},
   "outputs": [],
   "source": []
  },
  {
   "cell_type": "code",
   "execution_count": null,
   "metadata": {},
   "outputs": [],
   "source": []
  }
 ],
 "metadata": {
  "kernelspec": {
   "display_name": "Python 3",
   "language": "python",
   "name": "python3"
  },
  "language_info": {
   "codemirror_mode": {
    "name": "ipython",
    "version": 3
   },
   "file_extension": ".py",
   "mimetype": "text/x-python",
   "name": "python",
   "nbconvert_exporter": "python",
   "pygments_lexer": "ipython3",
   "version": "3.6.5"
  }
 },
 "nbformat": 4,
 "nbformat_minor": 2
}
