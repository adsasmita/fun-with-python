{
 "cells": [
  {
   "cell_type": "code",
   "execution_count": 5,
   "metadata": {},
   "outputs": [],
   "source": [
    "import re\n",
    "from collections import defaultdict"
   ]
  },
  {
   "cell_type": "code",
   "execution_count": 22,
   "metadata": {},
   "outputs": [],
   "source": [
    "def anagram(s1, s2):\n",
    "    \"whether s1 and s2 are anagrams of each other\"\n",
    "    # preprocess s1 and s2\n",
    "    pattern = r'[^\\w]'\n",
    "    sub = re.compile(pattern).sub\n",
    "    s1 = sub('', s1)\n",
    "    s2 = sub('', s2)\n",
    "    \n",
    "    print(s1)\n",
    "    print(s2)\n",
    "    # if len(s1) != len(s2) -> False\n",
    "    if len(s1) != len(s2):\n",
    "        return False\n",
    "    # for char in s1, +1 to counter_dict[char]\n",
    "    counter_dict = defaultdict(int)\n",
    "    for char in s1:\n",
    "        counter_dict[char] += 1\n",
    "    # for char in s2, -1 to counter_dict[char]\n",
    "    for char in s2:\n",
    "        counter_dict[char] -= 1\n",
    "    # for k, v in counter_dict.items(), if v != 0 -> return False\n",
    "    print(counter_dict)\n",
    "    for k, v in counter_dict.items():\n",
    "        if v != 0: return False\n",
    "    # otherwise return True\n",
    "    return True"
   ]
  },
  {
   "cell_type": "code",
   "execution_count": 9,
   "metadata": {},
   "outputs": [],
   "source": [
    "from collections import Counter\n",
    "import re\n",
    "\n",
    "def anagram_counter(s1, s2):\n",
    "    # preprocess s1 and s2\n",
    "    pattern = r'[^a-zA-z]'\n",
    "    sub = re.compile(pattern).sub\n",
    "    s1 = sub('', s1)\n",
    "    s2 = sub('', s2)\n",
    "    \n",
    "    c1 = Counter(s1)\n",
    "    c2 = Counter(s2)\n",
    "    print(f\"c1: {c1}\")\n",
    "    print(f\"c2: {c2}\")\n",
    "    \n",
    "    return c1, c2\n",
    "    \n",
    "    "
   ]
  },
  {
   "cell_type": "code",
   "execution_count": 10,
   "metadata": {},
   "outputs": [
    {
     "name": "stdout",
     "output_type": "stream",
     "text": [
      "c1: Counter({'g': 3, 'o': 3})\n",
      "c2: Counter({'g': 3, 'o': 3})\n"
     ]
    },
    {
     "data": {
      "text/plain": [
       "True"
      ]
     },
     "execution_count": 10,
     "metadata": {},
     "output_type": "execute_result"
    }
   ],
   "source": [
    "s1 = 'go go go'\n",
    "s2 = 'gggoo-0o'\n",
    "c1, c2 = anagram_counter(s1, s2)\n",
    "c1 == c2"
   ]
  },
  {
   "cell_type": "code",
   "execution_count": 24,
   "metadata": {},
   "outputs": [
    {
     "name": "stdout",
     "output_type": "stream",
     "text": [
      "gogogo\n",
      "gggooo\n",
      "defaultdict(<class 'int'>, {'g': 0, 'o': 0})\n",
      "abc\n",
      "cba\n",
      "defaultdict(<class 'int'>, {'a': 0, 'b': 0, 'c': 0})\n",
      "himan\n",
      "himan\n",
      "defaultdict(<class 'int'>, {'h': 0, 'i': 0, 'm': 0, 'a': 0, 'n': 0})\n",
      "aabbcc\n",
      "aabbc\n",
      "123\n",
      "12\n",
      "ALL TEST CASES PASSED\n"
     ]
    }
   ],
   "source": [
    "class AnagramTest(object):\n",
    "    \n",
    "    def test(self,sol):\n",
    "        assert sol('go go go','gggooo') == True\n",
    "        assert sol('abc','cba') == True\n",
    "        assert sol('hi man','hi     man') == True\n",
    "        assert sol('aabbcc','aabbc') == False\n",
    "        assert sol('123','1 2') == False\n",
    "        print (\"ALL TEST CASES PASSED\")\n",
    "\n",
    "# Run Tests\n",
    "t = AnagramTest()\n",
    "t.test(anagram)"
   ]
  },
  {
   "cell_type": "code",
   "execution_count": null,
   "metadata": {},
   "outputs": [],
   "source": []
  },
  {
   "cell_type": "code",
   "execution_count": null,
   "metadata": {},
   "outputs": [],
   "source": []
  },
  {
   "cell_type": "code",
   "execution_count": null,
   "metadata": {},
   "outputs": [],
   "source": []
  },
  {
   "cell_type": "code",
   "execution_count": null,
   "metadata": {},
   "outputs": [],
   "source": []
  },
  {
   "cell_type": "code",
   "execution_count": null,
   "metadata": {},
   "outputs": [],
   "source": [
    "def anagram(s1, s2):\n",
    "    pattern = r'[^\\w!>@?]'\n",
    "    sub = re.compile(pattern).sub\n",
    "    s1 = sub('', s1)\n",
    "    s2 = sub('', s2)\n",
    "\n",
    "    return sorted(s1) == sorted(s2)"
   ]
  },
  {
   "cell_type": "code",
   "execution_count": null,
   "metadata": {},
   "outputs": [],
   "source": [
    "count_d = defaultdict(int)\n",
    "count_d['l'] += 1\n",
    "count_d['g'] -= 1\n",
    "count_d.items()"
   ]
  },
  {
   "cell_type": "code",
   "execution_count": null,
   "metadata": {},
   "outputs": [],
   "source": [
    "def anagram2(s1, s2):\n",
    "    pattern = r'[^\\w!>@?]'\n",
    "    sub = re.compile(pattern).sub\n",
    "    s1 = sub('', s1)\n",
    "    s2 = sub('', s2)\n",
    "    if len(s1) != len(s2):\n",
    "        return False\n",
    "    \n",
    "    count_d = defaultdict(int)\n",
    "    \n",
    "    for c in s1:\n",
    "        count_d[c] += 1\n",
    "    \n",
    "    for c in s2:\n",
    "        count_d[c] -= 1\n",
    "        \n",
    "    for v in count_d.values():\n",
    "        if v != 0:\n",
    "            return False\n",
    "    \n",
    "    print(count_d)\n",
    "    \n",
    "    return True"
   ]
  },
  {
   "cell_type": "code",
   "execution_count": null,
   "metadata": {},
   "outputs": [],
   "source": [
    "class AnagramTest(object):\n",
    "    \n",
    "    def test(self,sol):\n",
    "        print(f\"testing solution: {str(sol)}\")\n",
    "        assert sol('go go go','gggooo') == True\n",
    "        assert sol('abc','cba') == True\n",
    "        assert sol('hi man','hi     lol') == False\n",
    "        assert sol('aabbcc','aabbc') == False\n",
    "        assert sol('123','1 2') == False\n",
    "        print(\"ALL TEST CASES PASSED\")\n",
    "\n",
    "# Run Tests\n",
    "t = AnagramTest()\n",
    "t.test(anagram)\n",
    "t.test(anagram2)"
   ]
  },
  {
   "cell_type": "code",
   "execution_count": null,
   "metadata": {},
   "outputs": [],
   "source": []
  }
 ],
 "metadata": {
  "kernelspec": {
   "display_name": "Python 3",
   "language": "python",
   "name": "python3"
  },
  "language_info": {
   "codemirror_mode": {
    "name": "ipython",
    "version": 3
   },
   "file_extension": ".py",
   "mimetype": "text/x-python",
   "name": "python",
   "nbconvert_exporter": "python",
   "pygments_lexer": "ipython3",
   "version": "3.6.5"
  }
 },
 "nbformat": 4,
 "nbformat_minor": 2
}
