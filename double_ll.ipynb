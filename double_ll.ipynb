{
 "cells": [
  {
   "cell_type": "code",
   "execution_count": 27,
   "metadata": {},
   "outputs": [],
   "source": [
    "class dll(object):\n",
    "    \n",
    "    def __init__(self,value):\n",
    "        self.value = value\n",
    "        self.next = None\n",
    "        self.prev = None\n",
    "    \n",
    "    def print_stats(self):\n",
    "        print(f\"value: {self.value}\")\n",
    "        print(f\"next: {self.next}\")\n",
    "        print(f\"prev: {self.prev}\")"
   ]
  },
  {
   "cell_type": "code",
   "execution_count": 28,
   "metadata": {},
   "outputs": [],
   "source": [
    "a = dll(10)\n",
    "b = dll(15)\n",
    "c = dll(20)"
   ]
  },
  {
   "cell_type": "code",
   "execution_count": 29,
   "metadata": {},
   "outputs": [],
   "source": [
    "#c -> b -> a\n",
    "#c -> b\n",
    "c.next = b\n",
    "b.prev = c\n",
    "# b -> a\n",
    "b.next = a\n",
    "a.prev = b"
   ]
  },
  {
   "cell_type": "code",
   "execution_count": 30,
   "metadata": {},
   "outputs": [
    {
     "name": "stdout",
     "output_type": "stream",
     "text": [
      "value: 10\n",
      "next: None\n",
      "prev: <__main__.dll object at 0x7f9f5518b3c8>\n",
      "value: 15\n",
      "next: <__main__.dll object at 0x7f9f5518b400>\n",
      "prev: <__main__.dll object at 0x7f9f5518bc18>\n",
      "value: 20\n",
      "next: <__main__.dll object at 0x7f9f5518b3c8>\n",
      "prev: None\n"
     ]
    }
   ],
   "source": [
    "a.print_stats()\n",
    "b.print_stats()\n",
    "c.print_stats()"
   ]
  },
  {
   "cell_type": "code",
   "execution_count": null,
   "metadata": {},
   "outputs": [],
   "source": []
  }
 ],
 "metadata": {
  "kernelspec": {
   "display_name": "Python 3",
   "language": "python",
   "name": "python3"
  },
  "language_info": {
   "codemirror_mode": {
    "name": "ipython",
    "version": 3
   },
   "file_extension": ".py",
   "mimetype": "text/x-python",
   "name": "python",
   "nbconvert_exporter": "python",
   "pygments_lexer": "ipython3",
   "version": "3.6.5"
  }
 },
 "nbformat": 4,
 "nbformat_minor": 2
}
