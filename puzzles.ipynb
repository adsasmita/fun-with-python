{
 "cells": [
  {
   "cell_type": "markdown",
   "metadata": {},
   "source": [
    "** For example, if you were given the list of stock prices: **\n",
    "\n",
    "** prices = [12,11,15,3,10] ** \n",
    "\n",
    "** Then your function would return the maximum possible profit, which would be 7 (buying at 3 and selling at 10). **"
   ]
  },
  {
   "cell_type": "code",
   "execution_count": 1,
   "metadata": {},
   "outputs": [],
   "source": [
    "prices = [12,11,15,3,10]\n"
   ]
  },
  {
   "cell_type": "code",
   "execution_count": 2,
   "metadata": {},
   "outputs": [],
   "source": [
    "prices = [12, 11, 10, 9 , 8 , 1 , -4]"
   ]
  },
  {
   "cell_type": "code",
   "execution_count": 3,
   "metadata": {},
   "outputs": [],
   "source": [
    "prices = [10,12,14,12,13,11,8,7,6,13,23,45,11,10]"
   ]
  },
  {
   "cell_type": "code",
   "execution_count": 4,
   "metadata": {},
   "outputs": [],
   "source": [
    "def most_profit(prices):\n",
    "    \"returns the best trading scenario given prices\"\n",
    "    min_price = prices[0]\n",
    "    max_profit = 0\n",
    "\n",
    "    for i, price in enumerate(prices[1:]):\n",
    "        min_price = min(min_price, price)\n",
    "\n",
    "        candidate = price - min_price\n",
    "\n",
    "        max_profit = max(max_profit, candidate)\n",
    "\n",
    "    print(f\"prices: {prices}, min_price: {min_price}, max_profit: {max_profit}\")\n",
    "    \n",
    "    return max_profit"
   ]
  },
  {
   "cell_type": "code",
   "execution_count": 5,
   "metadata": {},
   "outputs": [
    {
     "name": "stdout",
     "output_type": "stream",
     "text": [
      "prices: [10, 12, 14, 12, 13, 11, 8, 7, 6, 13, 23, 45, 11, 10], min_price: 6, max_profit: 39\n"
     ]
    },
    {
     "data": {
      "text/plain": [
       "39"
      ]
     },
     "execution_count": 5,
     "metadata": {},
     "output_type": "execute_result"
    }
   ],
   "source": [
    "most_profit(prices)"
   ]
  },
  {
   "cell_type": "markdown",
   "metadata": {},
   "source": [
    "** Given a list of integers, write a function that will return a list, in which for each index the element will be the product of all the integers except for the element at that index **\n",
    "\n",
    "**For example, an input of [1,2,3,4] would return [24,12,8,6] by performing [2×3×4,1×3×4,1×2×4,1×2×3] **"
   ]
  },
  {
   "cell_type": "code",
   "execution_count": 6,
   "metadata": {},
   "outputs": [],
   "source": [
    "import numpy as np"
   ]
  },
  {
   "cell_type": "code",
   "execution_count": 7,
   "metadata": {},
   "outputs": [],
   "source": [
    "def find_product(num_list=[1,2,3,4]):\n",
    "    arr = np.array(num_list, np.int32)\n",
    "    res = []\n",
    "    for i, num in enumerate(arr):\n",
    "        arr_rm = np.delete(arr, i, axis=-1)\n",
    "        prod = np.product(arr_rm)\n",
    "        res.append(prod)\n",
    "    \n",
    "    return res"
   ]
  },
  {
   "cell_type": "code",
   "execution_count": 8,
   "metadata": {},
   "outputs": [
    {
     "data": {
      "text/plain": [
       "[24, 12, 8, 6]"
      ]
     },
     "execution_count": 8,
     "metadata": {},
     "output_type": "execute_result"
    }
   ],
   "source": [
    "find_product()"
   ]
  },
  {
   "cell_type": "code",
   "execution_count": 9,
   "metadata": {},
   "outputs": [],
   "source": [
    "def find_product2(num_list=[1,2,3,4]):\n",
    "    \n",
    "    return [np.product(np.delete(np.array(num_list, np.int32), i, axis=-1)) for i in range(len(num_list))]"
   ]
  },
  {
   "cell_type": "code",
   "execution_count": 10,
   "metadata": {},
   "outputs": [
    {
     "name": "stdout",
     "output_type": "stream",
     "text": [
      "CPU times: user 465 µs, sys: 41 µs, total: 506 µs\n",
      "Wall time: 512 µs\n"
     ]
    },
    {
     "data": {
      "text/plain": [
       "[24, 12, 8, 6]"
      ]
     },
     "execution_count": 10,
     "metadata": {},
     "output_type": "execute_result"
    }
   ],
   "source": [
    "%%time\n",
    "find_product()"
   ]
  },
  {
   "cell_type": "code",
   "execution_count": 11,
   "metadata": {},
   "outputs": [
    {
     "name": "stdout",
     "output_type": "stream",
     "text": [
      "CPU times: user 1.03 ms, sys: 96 µs, total: 1.12 ms\n",
      "Wall time: 4.53 ms\n"
     ]
    },
    {
     "data": {
      "text/plain": [
       "[24, 12, 8, 6]"
      ]
     },
     "execution_count": 11,
     "metadata": {},
     "output_type": "execute_result"
    }
   ],
   "source": [
    "%%time\n",
    "find_product2()"
   ]
  },
  {
   "cell_type": "markdown",
   "metadata": {},
   "source": [
    "**Given two rectangles, determine if they overlap. The rectangles are defined as a Dictionary, for example:**\n",
    "\n",
    "`r1 = {'x': 2 , 'y': 4,'w':5,'h':12}`\n",
    "\n",
    "`r2 = {'x': 1 , 'y': 5,'w':7,'h':14}`\n",
    "\n",
    "`calc_rect_overlap(r1,r2)`\n",
    "\n",
    "`{'h': 11, 'w': 5, 'x': 2, 'y': 5}`"
   ]
  },
  {
   "cell_type": "code",
   "execution_count": 2,
   "metadata": {},
   "outputs": [],
   "source": [
    "def calc_overlap(x1, w1, x2, w2):\n",
    "    start = max(x1, x2)\n",
    "    end = min(x1+w1, x2+w2)\n",
    "    \n",
    "    if start > end: return (None, None)\n",
    "    \n",
    "    overlap = end - start\n",
    "    \n",
    "    return (start, overlap)"
   ]
  },
  {
   "cell_type": "code",
   "execution_count": 3,
   "metadata": {},
   "outputs": [],
   "source": [
    "def calc_rect_overlap(r1, r2):\n",
    "    \n",
    "    x_start, x_overlap = calc_overlap(r1['x'], r1['w'], r2['x'], r2['w'])\n",
    "    y_start, y_overlap = calc_overlap(r1['y'], r1['h'], r2['y'], r2['h'])\n",
    "    \n",
    "    return{'h': y_overlap,\n",
    "           'w': x_overlap,\n",
    "           'x': x_start,\n",
    "           'y': y_start}"
   ]
  },
  {
   "cell_type": "code",
   "execution_count": 4,
   "metadata": {},
   "outputs": [
    {
     "data": {
      "text/plain": [
       "{'h': 11, 'w': 5, 'x': 2, 'y': 5}"
      ]
     },
     "execution_count": 4,
     "metadata": {},
     "output_type": "execute_result"
    }
   ],
   "source": [
    "r1 = {'x': 2 , 'y': 4,'w':5,'h':12}\n",
    "r2 = {'x': 1 , 'y': 5,'w':7,'h':14}\n",
    "calc_rect_overlap(r1,r2)"
   ]
  },
  {
   "cell_type": "markdown",
   "metadata": {},
   "source": [
    "** Given a dice which rolls 1 to 7 (with uniform probability), simulate a 5 sided dice. Preferably, write your solution as a function. **"
   ]
  },
  {
   "cell_type": "code",
   "execution_count": 8,
   "metadata": {},
   "outputs": [],
   "source": [
    "from random import randint\n",
    " \n",
    "def dice7():\n",
    "    return randint(1, 7)\n",
    " \n",
    "# Our Solution\n",
    "def convert7to5():\n",
    "    \n",
    "    # Starting roll (just needs to be larger than 5)\n",
    "    roll = 7\n",
    "    \n",
    "    while roll > 5:\n",
    "        \n",
    "        roll = dice7()\n",
    "        print (f'dice7() produced a roll of: {roll} ')\n",
    "    print (' Your final returned roll is below:')\n",
    "    return roll"
   ]
  },
  {
   "cell_type": "markdown",
   "metadata": {},
   "source": [
    "** Given a dice which rolls from 1 to 5, simulate a uniform 7 sided dice! **"
   ]
  },
  {
   "cell_type": "code",
   "execution_count": 41,
   "metadata": {},
   "outputs": [],
   "source": [
    "from random import randint\n",
    "\n",
    "def dice5():\n",
    "    return randint(1, 5)\n",
    "\n",
    "def dice7():\n",
    "    while True:\n",
    "        roll1 = dice5()\n",
    "        roll2 = dice5()\n",
    "        result = (roll1-1)*5 + roll2\n",
    "        print(f\"roll1: {roll1}, roll2: {roll2}, result: {result}\")        \n",
    "        if result <= 21: break\n",
    "    \n",
    "    dice7 = (result % 7) + 1\n",
    "    print(f\"final result of dice 7: {dice7}\")\n",
    "    return dice7"
   ]
  },
  {
   "cell_type": "markdown",
   "metadata": {},
   "source": [
    "**Given a string, write a function that uses recursion to reverse it. **"
   ]
  },
  {
   "cell_type": "code",
   "execution_count": 58,
   "metadata": {},
   "outputs": [],
   "source": [
    "def reverse(s):\n",
    "    \n",
    "    if len(s) <= 1: return s\n",
    "    \n",
    "    return reverse(s[1:]) + s[0]"
   ]
  },
  {
   "cell_type": "code",
   "execution_count": null,
   "metadata": {},
   "outputs": [],
   "source": []
  },
  {
   "cell_type": "code",
   "execution_count": null,
   "metadata": {},
   "outputs": [],
   "source": []
  },
  {
   "cell_type": "code",
   "execution_count": null,
   "metadata": {},
   "outputs": [],
   "source": []
  },
  {
   "cell_type": "code",
   "execution_count": null,
   "metadata": {},
   "outputs": [],
   "source": []
  },
  {
   "cell_type": "code",
   "execution_count": null,
   "metadata": {},
   "outputs": [],
   "source": []
  },
  {
   "cell_type": "code",
   "execution_count": null,
   "metadata": {},
   "outputs": [],
   "source": []
  },
  {
   "cell_type": "code",
   "execution_count": null,
   "metadata": {},
   "outputs": [],
   "source": []
  },
  {
   "cell_type": "code",
   "execution_count": null,
   "metadata": {},
   "outputs": [],
   "source": []
  },
  {
   "cell_type": "code",
   "execution_count": null,
   "metadata": {},
   "outputs": [],
   "source": []
  },
  {
   "cell_type": "code",
   "execution_count": null,
   "metadata": {},
   "outputs": [],
   "source": []
  },
  {
   "cell_type": "code",
   "execution_count": null,
   "metadata": {},
   "outputs": [],
   "source": []
  },
  {
   "cell_type": "code",
   "execution_count": null,
   "metadata": {},
   "outputs": [],
   "source": []
  },
  {
   "cell_type": "code",
   "execution_count": null,
   "metadata": {},
   "outputs": [],
   "source": []
  },
  {
   "cell_type": "code",
   "execution_count": null,
   "metadata": {},
   "outputs": [],
   "source": []
  },
  {
   "cell_type": "code",
   "execution_count": null,
   "metadata": {},
   "outputs": [],
   "source": []
  },
  {
   "cell_type": "code",
   "execution_count": null,
   "metadata": {},
   "outputs": [],
   "source": []
  },
  {
   "cell_type": "markdown",
   "metadata": {},
   "source": [
    "**Find the squareroot of a given number rounded down to the nearest integer, without using the sqrt function. For example, squareroot of a number between [9, 15] should return 3, and [16, 24] should be 4.**"
   ]
  },
  {
   "cell_type": "code",
   "execution_count": null,
   "metadata": {},
   "outputs": [],
   "source": [
    "def solution(num): \n",
    "    if num<0: \n",
    "        raise ValueError \n",
    "    if num==1: \n",
    "        return 1 \n",
    "    for k in range(1+(num/2)): \n",
    "        if k**2==num: \n",
    "            return k \n",
    "        elif k**2>num: \n",
    "            return k-1 \n",
    "    return k  "
   ]
  },
  {
   "cell_type": "markdown",
   "metadata": {},
   "source": [
    "** Write Fibonnaci Sequence **"
   ]
  },
  {
   "cell_type": "code",
   "execution_count": 61,
   "metadata": {},
   "outputs": [
    {
     "ename": "SyntaxError",
     "evalue": "invalid syntax (<ipython-input-61-ba1e66eb95de>, line 9)",
     "output_type": "error",
     "traceback": [
      "\u001b[0;36m  File \u001b[0;32m\"<ipython-input-61-ba1e66eb95de>\"\u001b[0;36m, line \u001b[0;32m9\u001b[0m\n\u001b[0;31m    print fib(7)\u001b[0m\n\u001b[0m            ^\u001b[0m\n\u001b[0;31mSyntaxError\u001b[0m\u001b[0;31m:\u001b[0m invalid syntax\n"
     ]
    }
   ],
   "source": [
    "## Example 1: Using looping technique\n",
    "def fib(n):\n",
    "    \n",
    "    a,b = 1,1\n",
    "    for i in range(n-1):\n",
    "        a,b = b,a+b\n",
    "    return a\n",
    "\n",
    "print fib(7)\n",
    "    \n",
    "# Using recursion    \n",
    "def fibR(n):\n",
    "    if n==1 or n==2:\n",
    "        return 1\n",
    "    return fib(n-1)+fib(n-2)\n",
    "\n",
    "print fibR(7)\n",
    " \n",
    "## Example 3: Using generators\n",
    "a,b = 0,1\n",
    "def fibI():\n",
    "    global a,b\n",
    "    while True:\n",
    "        a,b = b, a+b\n",
    "        yield a\n",
    "f=fibI()\n",
    "f.next()\n",
    "f.next()\n",
    "f.next()\n",
    "f.next()\n",
    "f.next()\n",
    "f.next()\n",
    "print f.next()\n",
    "\n",
    " \n",
    "## Example 4: Using memoization\n",
    "def memoize(fn, arg):\n",
    "    memo = {}\n",
    "    if arg not in memo:\n",
    "        memo[arg] = fn(arg)\n",
    "    return memo[arg]\n",
    " \n",
    "## fib() as written in example 1.\n",
    "fibm = memoize(fib,7)\n",
    "print fibm\n",
    " \n",
    "## Example 5: Using memoization as decorator\n",
    "class Memoize:\n",
    "    def __init__(self, fn):\n",
    "        self.fn = fn\n",
    "        self.memo = {}\n",
    "    def __call__(self, arg):\n",
    "        if arg not in self.memo:\n",
    "            self.memo[arg] = self.fn(arg)\n",
    "            return self.memo[arg]\n",
    " \n",
    "@Memoize\n",
    "def fib(n):\n",
    "    a,b = 1,1\n",
    "    for i in range(n-1):\n",
    "        a,b = b,a+b\n",
    "    return a\n",
    "print fib(7)"
   ]
  },
  {
   "cell_type": "markdown",
   "metadata": {},
   "source": [
    "Below is a table depicting averaged relative performance time in seconds over 10 runs to caluclate the 15000th fibonacci number.\n",
    "<table width=\"422\" border=\"0\" cellspacing=\"0\" cellpadding=\"0\">\n",
    "<col width=\"64\" />\n",
    "<col width=\"78\" />\n",
    "<col width=\"89\" />\n",
    "<col width=\"94\" />\n",
    "<col width=\"97\" />\n",
    "<tbody>\n",
    "<tr>\n",
    "<td colspan=\"5\" width=\"422\" height=\"20\">                                         <strong>  Fib(n=15000)</strong></td>\n",
    "</tr>\n",
    "<tr>\n",
    "<td width=\"64\" height=\"40\"><strong>loops</strong></td>\n",
    "<td width=\"78\"><strong>recursion</strong></td>\n",
    "<td width=\"89\"><strong>generators</strong></td>\n",
    "<td width=\"94\"><strong>memoization</strong></td>\n",
    "<td width=\"97\"><strong>memoization as decorator</strong></td>\n",
    "</tr>\n",
    "<tr>\n",
    "<td width=\"64\" height=\"20\">45</td>\n",
    "<td width=\"78\">87</td>\n",
    "<td width=\"89\">58</td>\n",
    "<td width=\"94\">44</td>\n",
    "<td width=\"97\">43</td>\n",
    "</tr>\n",
    "<tr>\n",
    "<td width=\"64\" height=\"20\">47</td>\n",
    "<td width=\"78\">88</td>\n",
    "<td width=\"89\">58</td>\n",
    "<td width=\"94\">42</td>\n",
    "<td width=\"97\">42</td>\n",
    "</tr>\n",
    "<tr>\n",
    "<td width=\"64\" height=\"20\">51</td>\n",
    "<td width=\"78\">92</td>\n",
    "<td width=\"89\">60</td>\n",
    "<td width=\"94\">44</td>\n",
    "<td width=\"97\">43</td>\n",
    "</tr>\n",
    "<tr>\n",
    "<td width=\"64\" height=\"20\">43</td>\n",
    "<td width=\"78\">87</td>\n",
    "<td width=\"89\">58</td>\n",
    "<td width=\"94\">42</td>\n",
    "<td width=\"97\">43</td>\n",
    "</tr>\n",
    "<tr>\n",
    "<td width=\"64\" height=\"20\">48</td>\n",
    "<td width=\"78\">92</td>\n",
    "<td width=\"89\">61</td>\n",
    "<td width=\"94\">42</td>\n",
    "<td width=\"97\">44</td>\n",
    "</tr>\n",
    "<tr>\n",
    "<td width=\"64\" height=\"20\">45</td>\n",
    "<td width=\"78\">87</td>\n",
    "<td width=\"89\">59</td>\n",
    "<td width=\"94\">43</td>\n",
    "<td width=\"97\">44</td>\n",
    "</tr>\n",
    "<tr>\n",
    "<td width=\"64\" height=\"20\">44</td>\n",
    "<td width=\"78\">85</td>\n",
    "<td width=\"89\">57</td>\n",
    "<td width=\"94\">42</td>\n",
    "<td width=\"97\">44</td>\n",
    "</tr>\n",
    "<tr>\n",
    "<td width=\"64\" height=\"20\">44</td>\n",
    "<td width=\"78\">87</td>\n",
    "<td width=\"89\">62</td>\n",
    "<td width=\"94\">43</td>\n",
    "<td width=\"97\">43</td>\n",
    "</tr>\n",
    "<tr>\n",
    "<td width=\"64\" height=\"20\">48</td>\n",
    "<td width=\"78\">86</td>\n",
    "<td width=\"89\">59</td>\n",
    "<td width=\"94\">42</td>\n",
    "<td width=\"97\">43</td>\n",
    "</tr>\n",
    "<tr>\n",
    "<td width=\"64\" height=\"21\">45</td>\n",
    "<td width=\"78\">91</td>\n",
    "<td width=\"89\">61</td>\n",
    "<td width=\"94\">45</td>\n",
    "<td width=\"97\">45</td>\n",
    "</tr>\n",
    "<tr>\n",
    "<td width=\"64\" height=\"21\"><strong>46</strong></td>\n",
    "<td width=\"78\"><strong>88.2</strong></td>\n",
    "<td width=\"89\"><strong>59.3</strong></td>\n",
    "<td width=\"94\"><strong>42.9</strong></td>\n",
    "<td width=\"97\"><strong>43.4   (Avg)</strong></td>\n",
    "</tr>\n",
    "</tbody>\n",
    "</table>"
   ]
  },
  {
   "cell_type": "code",
   "execution_count": null,
   "metadata": {},
   "outputs": [],
   "source": []
  },
  {
   "cell_type": "code",
   "execution_count": null,
   "metadata": {},
   "outputs": [],
   "source": []
  },
  {
   "cell_type": "code",
   "execution_count": null,
   "metadata": {},
   "outputs": [],
   "source": []
  },
  {
   "cell_type": "code",
   "execution_count": null,
   "metadata": {},
   "outputs": [],
   "source": []
  },
  {
   "cell_type": "markdown",
   "metadata": {},
   "source": [
    "** Given a list of integers, find the largest product you could make from 3 integers in the list **"
   ]
  },
  {
   "cell_type": "code",
   "execution_count": null,
   "metadata": {},
   "outputs": [],
   "source": []
  },
  {
   "cell_type": "code",
   "execution_count": null,
   "metadata": {},
   "outputs": [],
   "source": []
  },
  {
   "cell_type": "code",
   "execution_count": null,
   "metadata": {},
   "outputs": [],
   "source": []
  },
  {
   "cell_type": "code",
   "execution_count": null,
   "metadata": {},
   "outputs": [],
   "source": []
  },
  {
   "cell_type": "code",
   "execution_count": null,
   "metadata": {},
   "outputs": [],
   "source": []
  },
  {
   "cell_type": "code",
   "execution_count": null,
   "metadata": {},
   "outputs": [],
   "source": []
  },
  {
   "cell_type": "code",
   "execution_count": null,
   "metadata": {},
   "outputs": [],
   "source": []
  },
  {
   "cell_type": "code",
   "execution_count": null,
   "metadata": {},
   "outputs": [],
   "source": []
  },
  {
   "cell_type": "code",
   "execution_count": null,
   "metadata": {},
   "outputs": [],
   "source": []
  },
  {
   "cell_type": "code",
   "execution_count": null,
   "metadata": {},
   "outputs": [],
   "source": []
  },
  {
   "cell_type": "code",
   "execution_count": null,
   "metadata": {},
   "outputs": [],
   "source": []
  },
  {
   "cell_type": "code",
   "execution_count": null,
   "metadata": {},
   "outputs": [],
   "source": []
  },
  {
   "cell_type": "code",
   "execution_count": null,
   "metadata": {},
   "outputs": [],
   "source": []
  }
 ],
 "metadata": {
  "kernelspec": {
   "display_name": "Python 3",
   "language": "python",
   "name": "python3"
  },
  "language_info": {
   "codemirror_mode": {
    "name": "ipython",
    "version": 3
   },
   "file_extension": ".py",
   "mimetype": "text/x-python",
   "name": "python",
   "nbconvert_exporter": "python",
   "pygments_lexer": "ipython3",
   "version": "3.6.5"
  }
 },
 "nbformat": 4,
 "nbformat_minor": 2
}
