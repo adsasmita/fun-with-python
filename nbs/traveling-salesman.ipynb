{
 "cells": [
  {
   "cell_type": "code",
   "execution_count": 1,
   "metadata": {},
   "outputs": [],
   "source": [
    "import matplotlib.pyplot as plt\n",
    "import random\n",
    "from time import clock\n",
    "from itertools import permutations, combinations\n",
    "from functools import lru_cache as cache\n",
    "from collections import Counter\n",
    "from statistics import mean, median"
   ]
  },
  {
   "cell_type": "code",
   "execution_count": 34,
   "metadata": {},
   "outputs": [],
   "source": [
    "def exhaustive_tsp(cities):\n",
    "    \"\"\"Generate all possible tours of the cities and choose the shortest tour.\"\"\"\n",
    "    return shortest_tour(permutations(cities))\n",
    "\n",
    "def shortest_tour(tours): return min(tours, key=tour_length)\n",
    "\n",
    "def tour_length(tour):\n",
    "    \"\"\"The total of distances between each pair of consecutive cities in the tour.\n",
    "    This includes the last-to-first, distance(tour[-1], tour[0])\"\"\"\n",
    "    return sum(distance(tour[i-1], tour[i]) for i in range(len(tour)))\n",
    "\n",
    "def distance(A, B): return abs(A-B) # L2 distance\n",
    "\n",
    "def Cities(n, seed=123, width=999, height=666):\n",
    "    \"\"\"Make a set of n cities, sampled uniformly from a (width x height) rectangle.\"\"\"\n",
    "    random.seed((n, seed))\n",
    "    return frozenset(complex(random.randint(1, width), random.randint(1, height))\n",
    "                     for c in range(n))"
   ]
  },
  {
   "cell_type": "code",
   "execution_count": 35,
   "metadata": {},
   "outputs": [
    {
     "data": {
      "text/plain": [
       "((158+421j),\n",
       " (297+397j),\n",
       " (832+102j),\n",
       " (872+207j),\n",
       " (817+315j),\n",
       " (939+600j),\n",
       " (620+498j),\n",
       " (163+639j),\n",
       " (31+501j))"
      ]
     },
     "execution_count": 35,
     "metadata": {},
     "output_type": "execute_result"
    }
   ],
   "source": [
    "exhaustive_tsp(Cities(9))"
   ]
  },
  {
   "cell_type": "code",
   "execution_count": null,
   "metadata": {},
   "outputs": [],
   "source": []
  },
  {
   "cell_type": "code",
   "execution_count": null,
   "metadata": {},
   "outputs": [],
   "source": [
    "def plot_tour(tour, style='bo-'):\n",
    "    \"\"\"Plot every city and link in the tour, and highlight start city.\"\"\"\n",
    "    if len(tour) > 1000: plt.figure(figsize=(15,10))\n",
    "        start = tour[0:1]\n",
    "        plot_segment(tour+start, style)\n",
    "        plot_segment(start, 'rD')\n",
    "        \n",
    "def plot_segment(segment, style='bo-'):\n",
    "    \"Plot every city and link in the segment.\"\n",
    "    plt.plot([X(c) for c in segment], [Y(c) for c in segment], style, clip_on=False)\n",
    "    plt.axis('scaled')\n",
    "    plt.axis('off')\n",
    "    \n",
    "def X(city): \"X coordinate.\"; return city.real\n",
    "def Y(city): \"Y coordinate.\"; return city.imag"
   ]
  },
  {
   "cell_type": "code",
   "execution_count": null,
   "metadata": {},
   "outputs": [],
   "source": []
  },
  {
   "cell_type": "code",
   "execution_count": null,
   "metadata": {},
   "outputs": [],
   "source": []
  }
 ],
 "metadata": {
  "kernelspec": {
   "display_name": "Python 3",
   "language": "python",
   "name": "python3"
  },
  "language_info": {
   "codemirror_mode": {
    "name": "ipython",
    "version": 3
   },
   "file_extension": ".py",
   "mimetype": "text/x-python",
   "name": "python",
   "nbconvert_exporter": "python",
   "pygments_lexer": "ipython3",
   "version": "3.6.5"
  }
 },
 "nbformat": 4,
 "nbformat_minor": 2
}
