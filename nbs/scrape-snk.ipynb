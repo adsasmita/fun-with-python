{
 "cells": [
  {
   "cell_type": "code",
   "execution_count": 6,
   "metadata": {},
   "outputs": [
    {
     "data": {
      "text/plain": [
       "{'User-Agent': 'Mozilla/5.0 (X11; OpenBSD i386) AppleWebKit/537.36 (KHTML, like Gecko) Chrome/36.0.1985.125 Safari/537.36'}"
      ]
     },
     "execution_count": 6,
     "metadata": {},
     "output_type": "execute_result"
    }
   ],
   "source": [
    "import re\n",
    "from requests_html import HTMLSession\n",
    "from fake_useragent import UserAgent\n",
    "\n",
    "ua = UserAgent()\n",
    "headers = {'User-Agent': ua.chrome}\n",
    "headers"
   ]
  },
  {
   "cell_type": "code",
   "execution_count": 7,
   "metadata": {},
   "outputs": [],
   "source": [
    "sess = HTMLSession()\n",
    "web_url = \"https://readshingekinokyojin.com/manga/shingeki-no-kyojin-chapter-108/\"\n",
    "\n",
    "r = sess.get(web_url)\n",
    "#headers = {'User-Agent': 'Mozilla/5.0 (Macintosh; Intel Mac OS X 10_10_1) AppleWebKit/537.36 (KHTML, like Gecko) Chrome/39.0.2171.95 Safari/537.36'}\n",
    "#r = sess.get(web_url, headers=headers)"
   ]
  },
  {
   "cell_type": "code",
   "execution_count": 14,
   "metadata": {},
   "outputs": [],
   "source": [
    "raw = r.html.raw_html.decode()"
   ]
  },
  {
   "cell_type": "code",
   "execution_count": null,
   "metadata": {},
   "outputs": [],
   "source": [
    "https://4.bp.blogspot.com/-ohJXAb95d-s/W2vOjNb75yI/AAAAAAAAKu0/TOfHu3Sr3l4UmM4QQ3fA1i2FW3qVKDP9gCLcBGAs/s1600/002.jpg"
   ]
  },
  {
   "cell_type": "code",
   "execution_count": 51,
   "metadata": {},
   "outputs": [
    {
     "data": {
      "text/plain": [
       "(['https://4.bp.blogspot.com/-ohJXAb95d-s/W2vOjNb75yI/AAAAAAAAKu0/TOfHu3Sr3l4UmM4QQ3fA1i2FW3qVKDP9gCLcBGAs/s1600/002.jpg',\n",
       "  'https://1.bp.blogspot.com/-9Mb4qaDHBOQ/W2vOjGhTh0I/AAAAAAAAKuw/unvFvWxEDOM7UKOdS-vTCkaxkKEZN-fTgCLcBGAs/s1600/003.jpg',\n",
       "  'https://3.bp.blogspot.com/-INR-t90qeb4/W2vOjr-Jt-I/AAAAAAAAKu4/EnQ8n9VZJxklDPXFWXW2R6tjnMlTosL3wCLcBGAs/s1600/004.jpg',\n",
       "  'https://3.bp.blogspot.com/-jM4Oi0n8YfQ/W2vOj4FpDII/AAAAAAAAKu8/JCJA6XX7BAAYAaqNrn1m3OT7Rls615LaACLcBGAs/s1600/005.jpg',\n",
       "  'https://2.bp.blogspot.com/-1Az2DmE0eLk/W2vOkHbPFFI/AAAAAAAAKvA/G0fWxwQhBKc3cF6l3fVmtIXle2edYkjpACLcBGAs/s1600/006.jpg',\n",
       "  'https://1.bp.blogspot.com/-GW_NXnRGOIM/W2vOkWb9dtI/AAAAAAAAKvE/l3RUYBqwDLYlyr-FCvBJ-Ysg0fnCjMz3ACLcBGAs/s1600/007.jpg',\n",
       "  'https://4.bp.blogspot.com/-T9eagjphZ44/W2vOk6DqpoI/AAAAAAAAKvI/MzIe8xRLCDAGMo9BkCkYV-3cN0KXxyTmACLcBGAs/s1600/008.jpg',\n",
       "  'https://2.bp.blogspot.com/-I_SOEmv1EvU/W2vOlQhbDkI/AAAAAAAAKvM/vZDqOSVjMWMMmp7ri0SQ6e6jGcdhxyc5wCLcBGAs/s1600/009.jpg',\n",
       "  'https://4.bp.blogspot.com/-73tcdnuQFjg/W2vOle562QI/AAAAAAAAKvQ/vy00Z-duxcQG50szKWWE841s8GP3yQ5QgCLcBGAs/s1600/010.jpg',\n",
       "  'https://2.bp.blogspot.com/-Yf7JcpwgQZQ/W2vOlgute3I/AAAAAAAAKvU/XBYrVHPH22YPfZNCt_m8prmacis89t8XgCLcBGAs/s1600/011.jpg',\n",
       "  'https://3.bp.blogspot.com/-oNDOGjH8lKk/W2vOl2Nle7I/AAAAAAAAKvY/MXiWU9D1VMAeaAq-pq6PVDcjZil1p0CUQCLcBGAs/s1600/012.jpg',\n",
       "  'https://4.bp.blogspot.com/-eZTt0lsVSRs/W2vOmC1-dUI/AAAAAAAAKvc/yxX2rSs6cponJqBV56anvwjDH8ZINVYLwCLcBGAs/s1600/013.jpg',\n",
       "  'https://2.bp.blogspot.com/-s-R79KN9xVU/W2vOmVgE68I/AAAAAAAAKvg/n8iFu1Z1uR8Oyp7TvPi_Th5ytJ19-DgMwCLcBGAs/s1600/014.jpg',\n",
       "  'https://2.bp.blogspot.com/-7MNta7VM-Io/W2vOmnK2c8I/AAAAAAAAKvk/1nYCkpUx8UwXTGu6E3BaXR8NS1mDXj7SACLcBGAs/s1600/015.jpg',\n",
       "  'https://3.bp.blogspot.com/-M9aV9_XCbCE/W2vOmyvewJI/AAAAAAAAKvo/hHJfF4ADdBwClbvBKxHlKqCMv9x4q2m5wCLcBGAs/s1600/016.jpg',\n",
       "  'https://3.bp.blogspot.com/-pBdwZFwFGms/W2vOnMr2tFI/AAAAAAAAKvs/6nWi1Rnqh9E8Acq0tmIMNg8fxF6ANW3ggCLcBGAs/s1600/017.jpg',\n",
       "  'https://4.bp.blogspot.com/-2_NNHzako3k/W2vOnTqz1yI/AAAAAAAAKvw/8iE5y1PGUAoJ4rRLj7c88FVkMDh_QzN9QCLcBGAs/s1600/018.jpg',\n",
       "  'https://3.bp.blogspot.com/-7ycS_LmeGus/W2vOnu5huBI/AAAAAAAAKv0/IXFIEvaeePEzhIqZ_0jVhn_ET7KV4nCXgCLcBGAs/s1600/019.jpg',\n",
       "  'https://3.bp.blogspot.com/-GdCePS1dMmw/W2vOn6gaYzI/AAAAAAAAKv4/AyzPTp0NfJwk3_mMF0HqPXUFCNFxcZx9wCLcBGAs/s1600/020.jpg',\n",
       "  'https://2.bp.blogspot.com/-xESfHhb46UA/W2vOoXn3asI/AAAAAAAAKv8/BFgfuJLGKW8XrhuS8qAEZ7Mvw2AvHX6vQCLcBGAs/s1600/021.jpg',\n",
       "  'https://1.bp.blogspot.com/-7zAyw2CM0No/W2vOoaq5HLI/AAAAAAAAKwA/kZeLbjwYFNUskMcOBj88OgIEHzrwtZ9iwCLcBGAs/s1600/022.jpg',\n",
       "  'https://4.bp.blogspot.com/-VL8raodiKWs/W2vOoptp9YI/AAAAAAAAKwE/f1KKCR-S640WTCzt-gHty5nsRZS7Bw3HgCLcBGAs/s1600/023.jpg',\n",
       "  'https://2.bp.blogspot.com/-vZpqrmqFOWQ/W2vOo_cY9hI/AAAAAAAAKwI/wTHGXlUVnLsmoce4LhjUijk9aAbIc8rpgCLcBGAs/s1600/024.jpg',\n",
       "  'https://1.bp.blogspot.com/-QjbEV_DS1sY/W2vOpJjqgGI/AAAAAAAAKwM/f1jpYWr6qdwMFWqdAfX0Jb9ysVVj03IcwCLcBGAs/s1600/025.jpg',\n",
       "  'https://1.bp.blogspot.com/-qSanmaV4-h8/W2vOpSuMrlI/AAAAAAAAKwQ/9RogVNuGxXo0Fcm2-Fid14J9b4MfHuYNgCLcBGAs/s1600/026.jpg',\n",
       "  'https://4.bp.blogspot.com/-E3fmewV47jM/W2vOphTxcgI/AAAAAAAAKwU/oBvlXlcAAiwVVAXyiC41E0Oxt2cLYaLSACLcBGAs/s1600/027.jpg',\n",
       "  'https://4.bp.blogspot.com/-xWfcppiCnWc/W2vOp6rNJ0I/AAAAAAAAKwY/kg9uyB33d68J9QwTN3TK6Ybr-5eR9AXWQCLcBGAs/s1600/028.jpg',\n",
       "  'https://2.bp.blogspot.com/-tF7paATa4qE/W2vOqA_p_II/AAAAAAAAKwc/nMYT8ph3jRolbPtffsJPkxZgNni01Ws6gCLcBGAs/s1600/029.jpg',\n",
       "  'https://3.bp.blogspot.com/-exw-1PH-Cqk/W2vOqRxvuwI/AAAAAAAAKwg/R5FnCqXPaJwOOfDW7fEPDYLFv1aHd2NQwCLcBGAs/s1600/030.jpg',\n",
       "  'https://2.bp.blogspot.com/-O9Nf_mvLV8Q/W2vOqfwXMyI/AAAAAAAAKwk/QSaCMvvZuBI_KNk_x-Uw5s0prrhU6AWEgCLcBGAs/s1600/031.jpg',\n",
       "  'https://3.bp.blogspot.com/-2et46fd09uA/W2vOqueRrsI/AAAAAAAAKwo/knZTsdKwzYwPxcgP3Y7GWsQFOkOQLx3ogCLcBGAs/s1600/032.jpg',\n",
       "  'https://4.bp.blogspot.com/-6di9Otp-3As/W2vOrLWw3aI/AAAAAAAAKws/Mzfc7WDAW_oJh05Tfy-XWmdxY0GxYEDSgCLcBGAs/s1600/033.jpg',\n",
       "  'https://1.bp.blogspot.com/-buJwqnVlr-A/W2vOrGyQ8KI/AAAAAAAAKww/MShnDTEWw6osCCE0-Wsz1tpepdivUg8hACLcBGAs/s1600/034.jpg',\n",
       "  'https://1.bp.blogspot.com/-xFqr6Uef-Gw/W2vOra_TRMI/AAAAAAAAKw0/bRmTfl0wfI0Sju3nHiY7IWPvv3UiGWHBwCLcBGAs/s1600/035.jpg',\n",
       "  'https://3.bp.blogspot.com/-6tG2dpo9toc/W2vOr536jZI/AAAAAAAAKw4/eBNPb-MScRocZJ5X73MFv9LNw3Z07tIEgCLcBGAs/s1600/036.jpg',\n",
       "  'https://3.bp.blogspot.com/-6Cn_SLO6VAY/W2vOrwXazmI/AAAAAAAAKw8/WzKQFS6OTsgxhaKOKHfIL8E5xPuwhVqYQCLcBGAs/s1600/037.jpg',\n",
       "  'https://1.bp.blogspot.com/-E6ZeBg7rN5A/W2vOsJV7XlI/AAAAAAAAKxA/hjh4n-de3oEmBOBE6SKps4STRWioQInswCLcBGAs/s1600/038.jpg',\n",
       "  'https://4.bp.blogspot.com/-H3zdQ6lbra4/W2vOsxKz8TI/AAAAAAAAKxE/YEFrGzPKfYM_IfcLIanZ8KVaUqIow1LfACLcBGAs/s1600/039.jpg',\n",
       "  'https://3.bp.blogspot.com/-OHoKwie8-XQ/W2vOsxEBaOI/AAAAAAAAKxI/mxMWcBC-kfQMqFCx0cRpBYUXsWSTghHqQCLcBGAs/s1600/040.jpg',\n",
       "  'https://3.bp.blogspot.com/-kpA1fYIIvqQ/W2vOtH2PTtI/AAAAAAAAKxM/kJTykzmzmmI9hW9h9H7KUUopjcfc7eJDQCLcBGAs/s1600/041.jpg',\n",
       "  'https://2.bp.blogspot.com/-qxjYzPX67EI/W2vOtaKBQGI/AAAAAAAAKxQ/vHVFsvSrxAkXK-C-KlJ8qcYV0F14-k60QCLcBGAs/s1600/042.jpg',\n",
       "  'https://1.bp.blogspot.com/-OTMtlvr6nk4/W2vOtt0tY2I/AAAAAAAAKxU/pfynFMtQYHM5cXDMtHAfuecdW0p9ffsMgCLcBGAs/s1600/043.jpg',\n",
       "  'https://1.bp.blogspot.com/-J8Nsfav6CZo/W2vOt730zdI/AAAAAAAAKxY/NZfhWsFdkCEJNjOROwdkjiV9rUSPzyWFACLcBGAs/s1600/044.jpg',\n",
       "  'https://1.bp.blogspot.com/-t2gH9xU07oE/W2vOuGhSZ8I/AAAAAAAAKxc/PSlFtUERiBMXPXtDMB7-VS5ZmyI9G1gvACLcBGAs/s1600/045.jpg'],\n",
       " 44)"
      ]
     },
     "execution_count": 51,
     "metadata": {},
     "output_type": "execute_result"
    }
   ],
   "source": [
    "pattern = r'\\w+\\:\\/\\/\\d\\.bp.blogspot.com\\b\\/[\\w-]+\\/[\\w-]+\\/[\\w-]+\\/[\\w-]+\\/[\\w-]{5}\\/\\d{3}\\.jpg\\b'\n",
    "re.findall(pattern, raw), len(re.findall(pattern, raw))"
   ]
  },
  {
   "cell_type": "code",
   "execution_count": null,
   "metadata": {},
   "outputs": [],
   "source": []
  },
  {
   "cell_type": "code",
   "execution_count": null,
   "metadata": {},
   "outputs": [],
   "source": []
  },
  {
   "cell_type": "code",
   "execution_count": null,
   "metadata": {},
   "outputs": [],
   "source": []
  },
  {
   "cell_type": "code",
   "execution_count": null,
   "metadata": {},
   "outputs": [],
   "source": []
  },
  {
   "cell_type": "code",
   "execution_count": null,
   "metadata": {},
   "outputs": [],
   "source": []
  },
  {
   "cell_type": "code",
   "execution_count": null,
   "metadata": {},
   "outputs": [],
   "source": []
  },
  {
   "cell_type": "code",
   "execution_count": null,
   "metadata": {},
   "outputs": [],
   "source": []
  }
 ],
 "metadata": {
  "kernelspec": {
   "display_name": "Python 3",
   "language": "python",
   "name": "python3"
  },
  "language_info": {
   "codemirror_mode": {
    "name": "ipython",
    "version": 3
   },
   "file_extension": ".py",
   "mimetype": "text/x-python",
   "name": "python",
   "nbconvert_exporter": "python",
   "pygments_lexer": "ipython3",
   "version": "3.6.5"
  }
 },
 "nbformat": 4,
 "nbformat_minor": 2
}
