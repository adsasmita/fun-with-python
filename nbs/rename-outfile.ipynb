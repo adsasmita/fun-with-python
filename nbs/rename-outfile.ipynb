{
 "cells": [
  {
   "cell_type": "code",
   "execution_count": 2,
   "metadata": {},
   "outputs": [],
   "source": [
    "f = open(\"./out\").read()"
   ]
  },
  {
   "cell_type": "code",
   "execution_count": 5,
   "metadata": {},
   "outputs": [],
   "source": [
    "lines = f.split()"
   ]
  },
  {
   "cell_type": "code",
   "execution_count": 14,
   "metadata": {},
   "outputs": [
    {
     "name": "stdout",
     "output_type": "stream",
     "text": [
      "https://storage.googleapis.com/arusderas/mr-robot-season3-1080p/Mr.Robot.S03E01.eps3.0.power-saver-mode.h.1080p.AMZN.WEB-DL.5.1.HEVC.x265-GIRAYS.mkv\n",
      "\n",
      "https://storage.googleapis.com/arusderas/mr-robot-season3-1080p/Mr.Robot.S03E02.eps3.1.undo.gz.1080p.AMZN.WEB-DL.5.1.HEVC.x265-GIRAYS.mkv\n",
      "\n",
      "https://storage.googleapis.com/arusderas/mr-robot-season3-1080p/Mr.Robot.S03E03.eps3.2.legacy.so.1080p.AMZN.WEB-DL.5.1.HEVC.x265-GIRAYS.mkv\n",
      "\n",
      "https://storage.googleapis.com/arusderas/mr-robot-season3-1080p/Mr.Robot.S03E04.eps3.3.m3tadata.par2.1080p.AMZN.WEB-DL.5.1.HEVC.x265-GIRAYS.mkv\n",
      "\n",
      "https://storage.googleapis.com/arusderas/mr-robot-season3-1080p/Mr.Robot.S03E05.eps3.4.runtime-err0r.r00.1080p.AMZN.WEB-DL.5.1.HEVC.x265-GIRAYS.mkv\n",
      "\n",
      "https://storage.googleapis.com/arusderas/mr-robot-season3-1080p/Mr.Robot.S03E06.eps3.5.kill-process.inc.1080p.AMZN.WEB-DL.5.1.HEVC.x265-GIRAYS.mkv\n",
      "\n",
      "https://storage.googleapis.com/arusderas/mr-robot-season3-1080p/Mr.Robot.S03E07.eps3.6.fredrick+tanya.chk.1080p.AMZN.WEB-DL.5.1.HEVC.x265-GIRAYS.mkv\n",
      "\n",
      "https://storage.googleapis.com/arusderas/mr-robot-season3-1080p/Mr.Robot.S03E08.eps3.7.dont-delete-me.ko.1080p.AMZN.WEB-DL.5.1.HEVC.x265-GIRAYS.mkv\n",
      "\n",
      "https://storage.googleapis.com/arusderas/mr-robot-season3-1080p/Mr.Robot.S03E09.eps3.8_stage3.torrent.1080p.WEB-DL.5.1.HEVC.x265-GIRAYS.mkv\n",
      "\n",
      "https://storage.googleapis.com/arusderas/mr-robot-season3-1080p/Mr.Robot.Season.3.S03.1080p.AMZN.WEBRip.5.1.HEVC.x265-GIRAYS.nfo\n",
      "\n",
      "https://storage.googleapis.com/arusderas/mr-robot-season3-1080p/Mr.Robot.s03e10.eps3.9_shutdown-r.1080p.WEB-DL.5.1.HEVC.x265-GIRAYS.mkv\n"
     ]
    }
   ],
   "source": [
    "o = [l.replace(\"gs://\",\"https://storage.googleapis.com/\") for l in lines]\n",
    "out = \"\\n\\n\".join(o)\n",
    "print(out)"
   ]
  },
  {
   "cell_type": "code",
   "execution_count": null,
   "metadata": {},
   "outputs": [],
   "source": []
  }
 ],
 "metadata": {
  "kernelspec": {
   "display_name": "Python 3",
   "language": "python",
   "name": "python3"
  },
  "language_info": {
   "codemirror_mode": {
    "name": "ipython",
    "version": 3
   },
   "file_extension": ".py",
   "mimetype": "text/x-python",
   "name": "python",
   "nbconvert_exporter": "python",
   "pygments_lexer": "ipython3",
   "version": "3.6.5"
  }
 },
 "nbformat": 4,
 "nbformat_minor": 2
}
