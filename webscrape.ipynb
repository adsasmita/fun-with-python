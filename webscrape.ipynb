{
 "cells": [
  {
   "cell_type": "code",
   "execution_count": null,
   "metadata": {},
   "outputs": [],
   "source": [
    "#!pip install requests-html\n",
    "from requests_html import HTMLSession\n",
    "import re\n",
    "\n",
    "binor = \"https://www.kaskus.co.id/thread/55f12232a09a3976398b4567/pecinta-bini-orang--binor-lovers-share-your-experience/\"\n",
    "tjduren = \"https://www.kaskus.co.id/thread/55aff7a41ee5df65038b456a/all-about--tanjung-duren-srengseng-kebon-jeruk-joglo-ciledug/\"\n",
    "tematik = \"https://www.kaskus.co.id/thread/55cb1cb6d44f9fc41d8b4570/tematik-spa-jembatan-tiga/\"\n",
    "\n",
    "names = ['kaskus_binor', 'kaskus_tjduren', 'kaskus_tematik']\n",
    "threads = [binor, tjduren, tematik]\n",
    "thrlens = [495, 460, 500]\n",
    "#thrlens = [4,3,2]\n",
    "re_pattern = r'\\n\\n'\n",
    "\n",
    "for name, thread, thrlen in zip(names, threads, thrlens):\n",
    "    print(f\"Thread: {thread}, Thread Length: {thrlen}\")\n",
    "    i = 1\n",
    "    txt_to_save = \"\"\n",
    "    links = [f\"{thread}/{i}\" for i in range(1, thrlen+1)]\n",
    "    for link in links:\n",
    "        session = HTMLSession()\n",
    "        r = session.get(link)\n",
    "        posts = r.html.find('.entry', clean=True)\n",
    "        for post in posts:\n",
    "            txt_to_save += post.text\n",
    "        print(f\"Mined URLs: {i}, Current Text Length: {len(txt_to_save)}\")\n",
    "        i += 1\n",
    "    txt_to_save = re.compile(re_pattern).sub('\\n', txt_to_save)\n",
    "    to_save = open(f\"{name}.txt\", \"w\", encoding='ascii', errors='ignore')\n",
    "    to_save.write(txt_to_save)\n",
    "    to_save.close()\n",
    "    print(\"Thread Done\")\n",
    "    print()\n"
   ]
  },
  {
   "cell_type": "code",
   "execution_count": null,
   "metadata": {},
   "outputs": [],
   "source": []
  },
  {
   "cell_type": "code",
   "execution_count": null,
   "metadata": {},
   "outputs": [],
   "source": []
  },
  {
   "cell_type": "code",
   "execution_count": null,
   "metadata": {},
   "outputs": [],
   "source": []
  },
  {
   "cell_type": "code",
   "execution_count": null,
   "metadata": {},
   "outputs": [],
   "source": []
  }
 ],
 "metadata": {
  "kernelspec": {
   "display_name": "Python 3",
   "language": "python",
   "name": "python3"
  },
  "language_info": {
   "codemirror_mode": {
    "name": "ipython",
    "version": 3
   },
   "file_extension": ".py",
   "mimetype": "text/x-python",
   "name": "python",
   "nbconvert_exporter": "python",
   "pygments_lexer": "ipython3",
   "version": "3.6.5"
  }
 },
 "nbformat": 4,
 "nbformat_minor": 2
}
